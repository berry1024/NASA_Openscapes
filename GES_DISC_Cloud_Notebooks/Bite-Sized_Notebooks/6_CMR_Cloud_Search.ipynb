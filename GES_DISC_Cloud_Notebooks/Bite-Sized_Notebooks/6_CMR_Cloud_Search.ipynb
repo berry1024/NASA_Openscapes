{
 "cells": [
  {
   "cell_type": "markdown",
   "id": "narrative-walnut",
   "metadata": {
    "id": "narrative-walnut"
   },
   "source": [
    "# Obtain a List of S3 URLs for a GES DISC Collection Using the CMR API\n",
    "### Authors: Chris Battisto, Alexis Hunzinger\n",
    "### Date Authored: 1-31-22\n",
    "### Date Updated: 2-9-23\n",
    "\n",
    "### Timing\n",
    "\n",
    "Exercise: 15 minutes\n",
    "\n",
    "### Overview\n",
    "\n",
    "This notebook demonstrates how to obtain a list of S3 URLs for desired cloud-hosted GES DISC granules using the [Commmon Metadata Repository (CMR) API](https://cmr.earthdata.nasa.gov/search/site/docs/search/api.html).\n",
    "\n",
    "### Prerequisites\n",
    "\n",
    "This notebook was written using Python 3.8, and requires these libraries and files: \n",
    "- requests\n",
    "\n",
    "Identify your data collection of interest and acquire its shortname or concept ID.\n",
    "- These can be found on the collection's Dataset Landing Page on the GES DISC website. For example, this is the Dataset Landing Page for Hourly MERRA-2 SLV: https://disc.gsfc.nasa.gov/datasets/M2T1NXSLV_5.12.4/summary  \n",
    "- Hover your mouse over the \"Cloud Enabled\" badge to find the collection's Concept ID, or find the collection's shortname in the Product Summary tab.\n",
    "\n",
    "![](../images/GESDISC-DSL-Shortname-ConceptID.png)\n"
   ]
  },
  {
   "cell_type": "markdown",
   "id": "t41Inu8NiQiX",
   "metadata": {
    "id": "t41Inu8NiQiX"
   },
   "source": [
    "## Import Libraries"
   ]
  },
  {
   "cell_type": "code",
   "execution_count": 1,
   "id": "seeing-tonight",
   "metadata": {
    "id": "seeing-tonight"
   },
   "outputs": [],
   "source": [
    "import requests"
   ]
  },
  {
   "cell_type": "markdown",
   "id": "russian-night",
   "metadata": {
    "id": "russian-night"
   },
   "source": [
    "## Create a Function for CMR Catalog Requests"
   ]
  },
  {
   "cell_type": "code",
   "execution_count": 2,
   "id": "certified-gather",
   "metadata": {
    "id": "certified-gather"
   },
   "outputs": [],
   "source": [
    "def cmr_request(params):\n",
    "    response = requests.get(url,\n",
    "                        params=params,\n",
    "                        headers={\n",
    "                            'Accept': 'application/json',\n",
    "                        }\n",
    "                       )\n",
    "    return response"
   ]
  },
  {
   "cell_type": "markdown",
   "id": "breathing-oxide",
   "metadata": {
    "id": "breathing-oxide"
   },
   "source": [
    "## Search CMR Catalogs and Obtain S3 URLs\n",
    "\n",
    "### Check that the CMR catalog can be accessed\n",
    "\n",
    "If \"200, CMR is accessible\" is returned, the catalog can be accessed!"
   ]
  },
  {
   "cell_type": "code",
   "execution_count": 3,
   "id": "introductory-wyoming",
   "metadata": {
    "id": "introductory-wyoming",
    "outputId": "403cd50f-10f9-4bc1-ace1-c623d81345f0"
   },
   "outputs": [
    {
     "name": "stdout",
     "output_type": "stream",
     "text": [
      "200, CMR is accessible\n"
     ]
    }
   ],
   "source": [
    "url = 'https://cmr.earthdata.nasa.gov/search/collections'\n",
    "\n",
    "# Create our request for finding cloud-hosted granules, and check that we can access CMR\n",
    "response = cmr_request({\n",
    "                        'cloud_hosted': 'True',\n",
    "                        'has_granules': 'True'\n",
    "                        })\n",
    "\n",
    "if response.status_code == 200:\n",
    "    print(str(response.status_code) + \", CMR is accessible\")\n",
    "else:\n",
    "    print(str(response.status_code) + \", CMR is not accessible, check for outages\")"
   ]
  },
  {
   "cell_type": "markdown",
   "id": "c80d58e4",
   "metadata": {},
   "source": [
    "### Search CMR with your desired data collection's shortname or concept ID and desired date range\n",
    "\n",
    "Using the collection's shortname or concept ID, we can obtain individual granules by querying https://cmr.earthdata.nasa.gov/search/granules. By querying a JSON response of the granules that we want, we can obtain each granule's S3 URL. \n",
    "\n",
    "Here, we will parse out an S3 URL for the AQUA AIRS IR + MW Level 2 CLIMCAPS dataset. \n",
    "- **Shortname**: M2T1NXSLV\n",
    "- **Concept ID**: C1276812863-GES_DISC\n",
    "\n",
    "Our desried date range is September 25, 2022 00:00:00 to September 27, 2022 00:00:00. "
   ]
  },
  {
   "cell_type": "code",
   "execution_count": 16,
   "id": "cae6738a",
   "metadata": {
    "tags": []
   },
   "outputs": [],
   "source": [
    "url = 'https://cmr.earthdata.nasa.gov/search/granules'\n",
    "\n",
    "short_name = 'M2T1NXSLV'\n",
    "concept_id = 'C1276812863-GES_DISC'\n",
    "\n",
    "start_time = '2022-09-25T00:00:00Z'\n",
    "end_time = '2022-09-27T00:00:00Z'\n",
    "\n",
    "# OPTION 1: Using shortname\n",
    "response = cmr_request({\n",
    "                        'short_name': short_name,\n",
    "                        'temporal': start_time+','+end_time,\n",
    "                        'page_size': 200\n",
    "                        })\n",
    "\n",
    "# OPTION 2: Using concept ID\n",
    "response = cmr_request({\n",
    "                        'concept_id': concept_id,\n",
    "                        'temporal': start_time+','+end_time,\n",
    "                        'page_size': 200\n",
    "                        })\n",
    "\n",
    "granules = response.json()['feed']['entry']"
   ]
  },
  {
   "cell_type": "markdown",
   "id": "6837abc2",
   "metadata": {},
   "source": [
    "### Identify the S3 URL from each granule response and save to a list\n",
    "\n",
    "Now you can create an empty list and fill it with the S3 URL contained in each granule's response. "
   ]
  },
  {
   "cell_type": "code",
   "execution_count": 17,
   "id": "9360a096-bcc9-41b0-97ff-d6940731dd4f",
   "metadata": {},
   "outputs": [],
   "source": [
    "s3_urls = []\n",
    "for granule in granules:\n",
    "    s3_urls.append(next((item['href'] for item in granule['links'] if item[\"href\"].startswith(\"s3://\")), None))"
   ]
  },
  {
   "cell_type": "markdown",
   "id": "9c460242-dfcc-4fae-b46b-2ab7fb8b9e47",
   "metadata": {},
   "source": [
    "### View your list of S3 URLs"
   ]
  },
  {
   "cell_type": "code",
   "execution_count": 18,
   "id": "00abda66-1df0-413d-8220-2dece8758650",
   "metadata": {},
   "outputs": [
    {
     "data": {
      "text/plain": [
       "['s3://gesdisc-cumulus-prod-protected/MERRA2/M2T1NXSLV.5.12.4/2022/09/MERRA2_400.tavg1_2d_slv_Nx.20220925.nc4',\n",
       " 's3://gesdisc-cumulus-prod-protected/MERRA2/M2T1NXSLV.5.12.4/2022/09/MERRA2_400.tavg1_2d_slv_Nx.20220926.nc4',\n",
       " 's3://gesdisc-cumulus-prod-protected/MERRA2/M2T1NXSLV.5.12.4/2022/09/MERRA2_400.tavg1_2d_slv_Nx.20220927.nc4']"
      ]
     },
     "execution_count": 18,
     "metadata": {},
     "output_type": "execute_result"
    }
   ],
   "source": [
    "s3_urls"
   ]
  },
  {
   "cell_type": "code",
   "execution_count": null,
   "id": "61d0bada-a632-4ae5-a39b-dc1b86dd4d50",
   "metadata": {},
   "outputs": [],
   "source": []
  }
 ],
 "metadata": {
  "colab": {
   "name": "CMR_Cloud_Search.ipynb",
   "provenance": []
  },
  "kernelspec": {
   "display_name": "Python 3 (ipykernel)",
   "language": "python",
   "name": "python3"
  },
  "language_info": {
   "codemirror_mode": {
    "name": "ipython",
    "version": 3
   },
   "file_extension": ".py",
   "mimetype": "text/x-python",
   "name": "python",
   "nbconvert_exporter": "python",
   "pygments_lexer": "ipython3",
   "version": "3.9.15"
  }
 },
 "nbformat": 4,
 "nbformat_minor": 5
}
