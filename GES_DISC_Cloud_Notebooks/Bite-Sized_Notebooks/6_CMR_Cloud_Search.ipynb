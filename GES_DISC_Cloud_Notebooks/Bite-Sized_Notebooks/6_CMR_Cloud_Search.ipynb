{
 "cells": [
  {
   "cell_type": "markdown",
   "id": "narrative-walnut",
   "metadata": {
    "id": "narrative-walnut"
   },
   "source": [
    "# Obtain a List of S3 URLs for a GES DISC Collection Using the CMR API\n",
    "### Authors: Chris Battisto, Alexis Hunzinger\n",
    "### Date Authored: 1-31-22\n",
    "### Date Updated: 2-1-23\n",
    "\n",
    "### Timing\n",
    "\n",
    "Exercise: 15 minutes\n",
    "\n",
    "### Overview\n",
    "\n",
    "This notebook demonstrates how to obtain a list of S3 URLs for desired cloud-hosted GES DISC granules using the [Commmon Metadata Repository (CMR) API](https://cmr.earthdata.nasa.gov/search/site/docs/search/api.html).\n",
    "\n",
    "### Prerequisites\n",
    "\n",
    "This notebook was written using Python 3.8, and requires these libraries and files: \n",
    "- requests\n",
    "\n",
    "Identify your data collection of interest and acquire its shortname or concept ID.\n",
    "- These can be found on the collection's Dataset Landing Page on the GES DISC website. For example, this is the Dataset Landing Page for Hourly MERRA-2 SLV: https://disc.gsfc.nasa.gov/datasets/M2T1NXSLV_5.12.4/summary  \n"
   ]
  },
  {
   "cell_type": "markdown",
   "id": "t41Inu8NiQiX",
   "metadata": {
    "id": "t41Inu8NiQiX"
   },
   "source": [
    "## Import Libraries"
   ]
  },
  {
   "cell_type": "code",
   "execution_count": 1,
   "id": "seeing-tonight",
   "metadata": {
    "id": "seeing-tonight"
   },
   "outputs": [],
   "source": [
    "import requests"
   ]
  },
  {
   "cell_type": "markdown",
   "id": "russian-night",
   "metadata": {
    "id": "russian-night"
   },
   "source": [
    "## Create a Function for CMR Catalog Requests"
   ]
  },
  {
   "cell_type": "code",
   "execution_count": 2,
   "id": "certified-gather",
   "metadata": {
    "id": "certified-gather"
   },
   "outputs": [],
   "source": [
    "def cmr_request(params):\n",
    "    response = requests.get(url,\n",
    "                        params=params,\n",
    "                        headers={\n",
    "                            'Accept': 'application/json',\n",
    "                        }\n",
    "                       )\n",
    "    return response"
   ]
  },
  {
   "cell_type": "markdown",
   "id": "breathing-oxide",
   "metadata": {
    "id": "breathing-oxide"
   },
   "source": [
    "## Search CMR Catalogs and Obtain S3 URLs\n",
    "\n",
    "### Check that the CMR catalog can be accessed\n",
    "\n",
    "If \"200, CMR is accessible\" is returned, the catalog can be accessed!"
   ]
  },
  {
   "cell_type": "code",
   "execution_count": 3,
   "id": "introductory-wyoming",
   "metadata": {
    "id": "introductory-wyoming",
    "outputId": "403cd50f-10f9-4bc1-ace1-c623d81345f0"
   },
   "outputs": [
    {
     "name": "stdout",
     "output_type": "stream",
     "text": [
      "200, CMR is accessible\n"
     ]
    }
   ],
   "source": [
    "url = 'https://cmr.earthdata.nasa.gov/search/collections'\n",
    "\n",
    "# Create our request for finding cloud-hosted granules, and check that we can access CMR\n",
    "response = cmr_request({\n",
    "                        'cloud_hosted': 'True',\n",
    "                        'has_granules': 'True'\n",
    "                        })\n",
    "\n",
    "if response.status_code == 200:\n",
    "    print(str(response.status_code) + \", CMR is accessible\")\n",
    "else:\n",
    "    print(str(response.status_code) + \", CMR is not accessible, check for outages\")"
   ]
  },
  {
   "cell_type": "markdown",
   "id": "c80d58e4",
   "metadata": {},
   "source": [
    "### Search CMR with your desired data collection's shortname or concept ID and desired date range\n",
    "\n",
    "Using the collection's shortname or concept ID, we can obtain individual granules by querying https://cmr.earthdata.nasa.gov/search/granules. By querying a JSON response of the granules that we want, we can obtain each granule's S3 URL. \n",
    "\n",
    "Here, we will parse out an S3 URL for the AQUA AIRS IR + MW Level 2 CLIMCAPS dataset. \n",
    "- **Shortname**: SNDRAQIML2CCPRET\n",
    "- **Concept ID**: C1693440798-GES_DISC\n",
    "\n",
    "Our desried date range is 00:00:00 to 06:00:00 on January 1, 2016. "
   ]
  },
  {
   "cell_type": "code",
   "execution_count": 4,
   "id": "cae6738a",
   "metadata": {
    "tags": []
   },
   "outputs": [
    {
     "name": "stdout",
     "output_type": "stream",
     "text": [
      "61\n"
     ]
    }
   ],
   "source": [
    "url = 'https://cmr.earthdata.nasa.gov/search/granules'\n",
    "\n",
    "shortname = 'SNDRAQIML2CCPRET'\n",
    "concept_id = 'C1693440798-GES_DISC'\n",
    "\n",
    "start_time = '2016-01-01T00:00:00Z'\n",
    "end_time = '2016-01-01T06:00:00Z'\n",
    "\n",
    "# OPTION 1: Using shortname\n",
    "response = cmr_request({\n",
    "                        'shortname': shortname,\n",
    "                        'temporal': start_time+','+end_time,\n",
    "                        })\n",
    "\n",
    "# OPTION 2: Using concept ID\n",
    "response = cmr_request({\n",
    "                        'concept_id': concept_id,\n",
    "                        'temporal': start_time+','+end_time,\n",
    "                        })\n",
    "\n",
    "# Pretty print the JSON response, where we can see which entry contains the S3 link:\n",
    "#pprint.pprint(response.json()['feed']['entry'][0]['links'])\n",
    "\n",
    "#print(response.json()['feed']['entry'])\n",
    "print(response.headers['CMR-Hits'])\n",
    "granules = response.json()['feed']['entry']\n",
    "#print(granules)"
   ]
  },
  {
   "cell_type": "markdown",
   "id": "6837abc2",
   "metadata": {},
   "source": [
    "Now, we can parse out that link, and assign it to a variable:"
   ]
  },
  {
   "cell_type": "code",
   "execution_count": 6,
   "id": "b8d22e65",
   "metadata": {
    "tags": []
   },
   "outputs": [],
   "source": [
    "#climcaps_s3_link = response.json()['feed']['entry'][0]['links'][1]['href']\n",
    "#print(climcaps_s3_link)\n",
    "\n",
    "#[print('Granule',i['links']) for i in granules]\n",
    "# for i in granules:\n",
    "#     print(i['links'])\n",
    "\n",
    "#'title': 'This link provides direct download access via S3 to the granule'\n",
    "#'href' is they key for the S3 links\n",
    "\n",
    "test = granules[0]['links']"
   ]
  },
  {
   "cell_type": "code",
   "execution_count": 7,
   "id": "9360a096-bcc9-41b0-97ff-d6940731dd4f",
   "metadata": {},
   "outputs": [
    {
     "ename": "SyntaxError",
     "evalue": "f-string: unmatched '[' (4199281754.py, line 2)",
     "output_type": "error",
     "traceback": [
      "\u001b[0;36m  Cell \u001b[0;32mIn[7], line 2\u001b[0;36m\u001b[0m\n\u001b[0;31m    print(f'{granule['links']}')\u001b[0m\n\u001b[0m                      ^\u001b[0m\n\u001b[0;31mSyntaxError\u001b[0m\u001b[0;31m:\u001b[0m f-string: unmatched '['\n"
     ]
    }
   ],
   "source": [
    "for granule in granules:\n",
    "    print(f'{granule['links']}')"
   ]
  },
  {
   "cell_type": "code",
   "execution_count": null,
   "id": "fe212c18-029b-4f91-af81-fd092c539c70",
   "metadata": {},
   "outputs": [],
   "source": []
  }
 ],
 "metadata": {
  "colab": {
   "name": "CMR_Cloud_Search.ipynb",
   "provenance": []
  },
  "kernelspec": {
   "display_name": "Python 3 (ipykernel)",
   "language": "python",
   "name": "python3"
  },
  "language_info": {
   "codemirror_mode": {
    "name": "ipython",
    "version": 3
   },
   "file_extension": ".py",
   "mimetype": "text/x-python",
   "name": "python",
   "nbconvert_exporter": "python",
   "pygments_lexer": "ipython3",
   "version": "3.9.15"
  }
 },
 "nbformat": 4,
 "nbformat_minor": 5
}
