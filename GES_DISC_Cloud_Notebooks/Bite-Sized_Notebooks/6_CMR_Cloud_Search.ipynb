{
 "cells": [
  {
   "cell_type": "markdown",
   "id": "narrative-walnut",
   "metadata": {
    "id": "narrative-walnut"
   },
   "source": [
    "# Obtain a List of S3 URLs for a GES DISC Collection Using the CMR API\n",
    "### Authors: Chris Battisto, Alexis Hunzinger\n",
    "### Date Authored: 1-31-22\n",
    "### Date Updated: 2-1-23\n",
    "\n",
    "### Timing\n",
    "\n",
    "Exercise: 15 minutes\n",
    "\n",
    "### Overview\n",
    "\n",
    "This notebook demonstrates how to obtain a list of S3 URLs for desired cloud-hosted GES DISC granules using the [Commmon Metadata Repository (CMR) API](https://cmr.earthdata.nasa.gov/search/site/docs/search/api.html).\n",
    "\n",
    "### Prerequisites\n",
    "\n",
    "This notebook was written using Python 3.8, and requires these libraries and files: \n",
    "- requests\n",
    "\n",
    "Identify your data collection of interest and acquire its shortname or concept ID.\n",
    "- These can be found on the collection's Dataset Landing Page on the GES DISC website. For example, this is the Dataset Landing Page for Hourly MERRA-2 SLV: https://disc.gsfc.nasa.gov/datasets/M2T1NXSLV_5.12.4/summary  \n"
   ]
  },
  {
   "cell_type": "markdown",
   "id": "t41Inu8NiQiX",
   "metadata": {
    "id": "t41Inu8NiQiX"
   },
   "source": [
    "## Import Libraries"
   ]
  },
  {
   "cell_type": "code",
   "execution_count": 1,
   "id": "seeing-tonight",
   "metadata": {
    "id": "seeing-tonight"
   },
   "outputs": [],
   "source": [
    "import requests"
   ]
  },
  {
   "cell_type": "markdown",
   "id": "russian-night",
   "metadata": {
    "id": "russian-night"
   },
   "source": [
    "## Create a Function for CMR Catalog Requests"
   ]
  },
  {
   "cell_type": "code",
   "execution_count": 2,
   "id": "certified-gather",
   "metadata": {
    "id": "certified-gather"
   },
   "outputs": [],
   "source": [
    "def cmr_request(params):\n",
    "    response = requests.get(url,\n",
    "                        params=params,\n",
    "                        headers={\n",
    "                            'Accept': 'application/json',\n",
    "                        }\n",
    "                       )\n",
    "    return response"
   ]
  },
  {
   "cell_type": "markdown",
   "id": "breathing-oxide",
   "metadata": {
    "id": "breathing-oxide"
   },
   "source": [
    "## Search CMR Catalogs and Obtain S3 URLs\n",
    "\n",
    "### Check that the CMR catalog can be accessed\n",
    "\n",
    "If \"200, CMR is accessible\" is returned, the catalog can be accessed!"
   ]
  },
  {
   "cell_type": "code",
   "execution_count": 3,
   "id": "introductory-wyoming",
   "metadata": {
    "id": "introductory-wyoming",
    "outputId": "403cd50f-10f9-4bc1-ace1-c623d81345f0"
   },
   "outputs": [
    {
     "name": "stdout",
     "output_type": "stream",
     "text": [
      "200, CMR is accessible\n"
     ]
    }
   ],
   "source": [
    "url = 'https://cmr.earthdata.nasa.gov/search/collections'\n",
    "\n",
    "# Create our request for finding cloud-hosted granules, and check that we can access CMR\n",
    "response = cmr_request({\n",
    "                        'cloud_hosted': 'True',\n",
    "                        'has_granules': 'True'\n",
    "                        })\n",
    "\n",
    "if response.status_code == 200:\n",
    "    print(str(response.status_code) + \", CMR is accessible\")\n",
    "else:\n",
    "    print(str(response.status_code) + \", CMR is not accessible, check for outages\")"
   ]
  },
  {
   "cell_type": "markdown",
   "id": "c80d58e4",
   "metadata": {},
   "source": [
    "### Search CMR with your desired data collection's shortname or concept ID and desired date range\n",
    "\n",
    "Using the collection's shortname or concept ID, we can obtain individual granules by querying https://cmr.earthdata.nasa.gov/search/granules. By querying a JSON response of the granules that we want, we can obtain each granule's S3 URL. \n",
    "\n",
    "Here, we will parse out an S3 URL for the AQUA AIRS IR + MW Level 2 CLIMCAPS dataset. \n",
    "- **Shortname**: SNDRAQIML2CCPRET\n",
    "- **Concept ID**: C1693440798-GES_DISC\n",
    "\n",
    "Our desried date range is 00:00:00 to 06:00:00 on January 1, 2016. "
   ]
  },
  {
   "cell_type": "code",
   "execution_count": 5,
   "id": "cae6738a",
   "metadata": {
    "collapsed": true,
    "jupyter": {
     "outputs_hidden": true
    },
    "tags": []
   },
   "outputs": [
    {
     "name": "stdout",
     "output_type": "stream",
     "text": [
      "61\n",
      "[{'producer_granule_id': 'SNDR.AQUA.AIRS_IM.20151231T2359.m06.g240.L2_CLIMCAPS_RET.std.v02_39.G.210425005357.nc', 'time_start': '2015-12-31T23:59:22.000Z', 'updated': '2021-04-25T00:59:39.000Z', 'dataset_id': 'Sounder SIPS: AQUA AIRS IR + MW Level 2 CLIMCAPS: Atmosphere, cloud and surface geophysical state V2 at GES DISC', 'data_center': 'GES_DISC', 'title': 'SNDRAQIML2CCPRET.2:SNDR.AQUA.AIRS_IM.20151231T2359.m06.g240.L2_CLIMCAPS_RET.std.v02_39.G.210425005357.nc', 'coordinate_system': 'GEODETIC', 'day_night_flag': 'DAY', 'time_end': '2016-01-01T00:05:22.000Z', 'id': 'G2040464612-GES_DISC', 'original_format': 'ECHO10', 'granule_size': '21.317625045776367', 'browse_flag': False, 'polygons': [['-28.39 -142.23 -7.27 -148.33 -9.68 -164.2 -31.15 -160.47 -28.39 -142.23']], 'collection_concept_id': 'C1693440798-GES_DISC', 'online_access_flag': True, 'links': [{'rel': 'http://esipfed.org/ns/fedsearch/1.1/data#', 'title': 'Download SNDR.AQUA.AIRS_IM.20151231T2359.m06.g240.L2_CLIMCAPS_RET.std.v02_39.G.210425005357.nc', 'hreflang': 'en-US', 'href': 'https://data.gesdisc.earthdata.nasa.gov/data/Aqua_Sounder_Level2/SNDRAQIML2CCPRET.2/2015/365/SNDR.AQUA.AIRS_IM.20151231T2359.m06.g240.L2_CLIMCAPS_RET.std.v02_39.G.210425005357.nc'}, {'rel': 'http://esipfed.org/ns/fedsearch/1.1/s3#', 'title': 'This link provides direct download access via S3 to the granule', 'hreflang': 'en-US', 'href': 's3://gesdisc-cumulus-prod-protected/Aqua_Sounder_Level2/SNDRAQIML2CCPRET.2/2015/365/SNDR.AQUA.AIRS_IM.20151231T2359.m06.g240.L2_CLIMCAPS_RET.std.v02_39.G.210425005357.nc'}, {'rel': 'http://esipfed.org/ns/fedsearch/1.1/service#', 'type': 'application/x-netcdf', 'title': 'The OPENDAP location for the granule. (GET DATA : OPENDAP DATA)', 'hreflang': 'en-US', 'href': 'https://sounder.gesdisc.eosdis.nasa.gov/opendap/Aqua_Sounder_Level2/SNDRAQIML2CCPRET.2/2015/365/SNDR.AQUA.AIRS_IM.20151231T2359.m06.g240.L2_CLIMCAPS_RET.std.v02_39.G.210425005357.nc'}, {'rel': 'http://esipfed.org/ns/fedsearch/1.1/metadata#', 'title': 'api endpoint to retrieve temporary credentials valid for same-region direct s3 access (VIEW RELATED INFORMATION)', 'hreflang': 'en-US', 'href': 'https://data.gesdisc.earthdata.nasa.gov/s3credentials'}, {'inherited': True, 'rel': 'http://esipfed.org/ns/fedsearch/1.1/data#', 'hreflang': 'en-US', 'href': 'https://sounder.gesdisc.eosdis.nasa.gov/data/Aqua_Sounder_Level2/SNDRAQIML2CCPRET.2/'}, {'inherited': True, 'rel': 'http://esipfed.org/ns/fedsearch/1.1/service#', 'hreflang': 'en-US', 'href': 'https://sounder.gesdisc.eosdis.nasa.gov/opendap/Aqua_Sounder_Level2/SNDRAQIML2CCPRET.2/'}, {'inherited': True, 'rel': 'http://esipfed.org/ns/fedsearch/1.1/data#', 'hreflang': 'en-US', 'href': 'https://search.earthdata.nasa.gov/search?q=SNDRAQIML2CCPRET+2'}, {'inherited': True, 'rel': 'http://esipfed.org/ns/fedsearch/1.1/documentation#', 'hreflang': 'en-US', 'href': 'https://docserver.gesdisc.eosdis.nasa.gov/public/project/Sounder/CLIMCAPS.V2.README.pdf'}, {'inherited': True, 'rel': 'http://esipfed.org/ns/fedsearch/1.1/documentation#', 'hreflang': 'en-US', 'href': 'https://docserver.gesdisc.eosdis.nasa.gov/public/project/Sounder/CLIMCAPS.V2.ATBD.pdf'}, {'inherited': True, 'rel': 'http://esipfed.org/ns/fedsearch/1.1/metadata#', 'hreflang': 'en-US', 'href': 'https://airs.jpl.nasa.gov/index.html'}, {'inherited': True, 'rel': 'http://esipfed.org/ns/fedsearch/1.1/documentation#', 'hreflang': 'en-US', 'href': 'https://disc.gsfc.nasa.gov/information/documents?title=AIRS%20Documentation'}, {'inherited': True, 'rel': 'http://esipfed.org/ns/fedsearch/1.1/documentation#', 'hreflang': 'en-US', 'href': 'https://airs.jpl.nasa.gov/data/guides-docs/climcaps-science/'}, {'inherited': True, 'rel': 'http://esipfed.org/ns/fedsearch/1.1/documentation#', 'hreflang': 'en-US', 'href': 'https://docserver.gesdisc.eosdis.nasa.gov/public/project/Sounder/CLIMCAPS_V2_L2_science_guides.pdf'}]}, {'producer_granule_id': 'SNDR.AQUA.AIRS_IM.20160101T0005.m06.g001.L2_CLIMCAPS_RET.std.v02_39.G.210412145010.nc', 'time_start': '2016-01-01T00:05:22.000Z', 'updated': '2021-04-12T15:02:06.000Z', 'dataset_id': 'Sounder SIPS: AQUA AIRS IR + MW Level 2 CLIMCAPS: Atmosphere, cloud and surface geophysical state V2 at GES DISC', 'data_center': 'GES_DISC', 'title': 'SNDRAQIML2CCPRET.2:SNDR.AQUA.AIRS_IM.20160101T0005.m06.g001.L2_CLIMCAPS_RET.std.v02_39.G.210412145010.nc', 'coordinate_system': 'GEODETIC', 'day_night_flag': 'DAY', 'time_end': '2016-01-01T00:11:22.000Z', 'id': 'G2033053679-GES_DISC', 'original_format': 'ECHO10', 'granule_size': '21.280293464660645', 'browse_flag': False, 'polygons': [['-7.11 -148.37 14.31 -152.84 11.87 -168.89 -9.53 -164.24 -7.11 -148.37']], 'collection_concept_id': 'C1693440798-GES_DISC', 'online_access_flag': True, 'links': [{'rel': 'http://esipfed.org/ns/fedsearch/1.1/data#', 'title': 'Download SNDR.AQUA.AIRS_IM.20160101T0005.m06.g001.L2_CLIMCAPS_RET.std.v02_39.G.210412145010.nc', 'hreflang': 'en-US', 'href': 'https://data.gesdisc.earthdata.nasa.gov/data/Aqua_Sounder_Level2/SNDRAQIML2CCPRET.2/2016/001/SNDR.AQUA.AIRS_IM.20160101T0005.m06.g001.L2_CLIMCAPS_RET.std.v02_39.G.210412145010.nc'}, {'rel': 'http://esipfed.org/ns/fedsearch/1.1/s3#', 'title': 'This link provides direct download access via S3 to the granule', 'hreflang': 'en-US', 'href': 's3://gesdisc-cumulus-prod-protected/Aqua_Sounder_Level2/SNDRAQIML2CCPRET.2/2016/001/SNDR.AQUA.AIRS_IM.20160101T0005.m06.g001.L2_CLIMCAPS_RET.std.v02_39.G.210412145010.nc'}, {'rel': 'http://esipfed.org/ns/fedsearch/1.1/service#', 'type': 'application/x-netcdf', 'title': 'The OPENDAP location for the granule. (GET DATA : OPENDAP DATA)', 'hreflang': 'en-US', 'href': 'https://sounder.gesdisc.eosdis.nasa.gov/opendap/Aqua_Sounder_Level2/SNDRAQIML2CCPRET.2/2016/001/SNDR.AQUA.AIRS_IM.20160101T0005.m06.g001.L2_CLIMCAPS_RET.std.v02_39.G.210412145010.nc'}, {'rel': 'http://esipfed.org/ns/fedsearch/1.1/metadata#', 'title': 'api endpoint to retrieve temporary credentials valid for same-region direct s3 access (VIEW RELATED INFORMATION)', 'hreflang': 'en-US', 'href': 'https://data.gesdisc.earthdata.nasa.gov/s3credentials'}, {'inherited': True, 'rel': 'http://esipfed.org/ns/fedsearch/1.1/data#', 'hreflang': 'en-US', 'href': 'https://sounder.gesdisc.eosdis.nasa.gov/data/Aqua_Sounder_Level2/SNDRAQIML2CCPRET.2/'}, {'inherited': True, 'rel': 'http://esipfed.org/ns/fedsearch/1.1/service#', 'hreflang': 'en-US', 'href': 'https://sounder.gesdisc.eosdis.nasa.gov/opendap/Aqua_Sounder_Level2/SNDRAQIML2CCPRET.2/'}, {'inherited': True, 'rel': 'http://esipfed.org/ns/fedsearch/1.1/data#', 'hreflang': 'en-US', 'href': 'https://search.earthdata.nasa.gov/search?q=SNDRAQIML2CCPRET+2'}, {'inherited': True, 'rel': 'http://esipfed.org/ns/fedsearch/1.1/documentation#', 'hreflang': 'en-US', 'href': 'https://docserver.gesdisc.eosdis.nasa.gov/public/project/Sounder/CLIMCAPS.V2.README.pdf'}, {'inherited': True, 'rel': 'http://esipfed.org/ns/fedsearch/1.1/documentation#', 'hreflang': 'en-US', 'href': 'https://docserver.gesdisc.eosdis.nasa.gov/public/project/Sounder/CLIMCAPS.V2.ATBD.pdf'}, {'inherited': True, 'rel': 'http://esipfed.org/ns/fedsearch/1.1/metadata#', 'hreflang': 'en-US', 'href': 'https://airs.jpl.nasa.gov/index.html'}, {'inherited': True, 'rel': 'http://esipfed.org/ns/fedsearch/1.1/documentation#', 'hreflang': 'en-US', 'href': 'https://disc.gsfc.nasa.gov/information/documents?title=AIRS%20Documentation'}, {'inherited': True, 'rel': 'http://esipfed.org/ns/fedsearch/1.1/documentation#', 'hreflang': 'en-US', 'href': 'https://airs.jpl.nasa.gov/data/guides-docs/climcaps-science/'}, {'inherited': True, 'rel': 'http://esipfed.org/ns/fedsearch/1.1/documentation#', 'hreflang': 'en-US', 'href': 'https://docserver.gesdisc.eosdis.nasa.gov/public/project/Sounder/CLIMCAPS_V2_L2_science_guides.pdf'}]}, {'producer_granule_id': 'SNDR.AQUA.AIRS_IM.20160101T0011.m06.g002.L2_CLIMCAPS_RET.std.v02_39.G.210412145010.nc', 'time_start': '2016-01-01T00:11:22.000Z', 'updated': '2021-04-12T14:57:15.000Z', 'dataset_id': 'Sounder SIPS: AQUA AIRS IR + MW Level 2 CLIMCAPS: Atmosphere, cloud and surface geophysical state V2 at GES DISC', 'data_center': 'GES_DISC', 'title': 'SNDRAQIML2CCPRET.2:SNDR.AQUA.AIRS_IM.20160101T0011.m06.g002.L2_CLIMCAPS_RET.std.v02_39.G.210412145010.nc', 'coordinate_system': 'GEODETIC', 'day_night_flag': 'DAY', 'time_end': '2016-01-01T00:17:22.000Z', 'id': 'G2033054564-GES_DISC', 'original_format': 'ECHO10', 'granule_size': '21.36603832244873', 'browse_flag': False, 'polygons': [['14.47 -152.88 35.97 -156.57 33.1 -175.54 12.03 -168.93 14.47 -152.88']], 'collection_concept_id': 'C1693440798-GES_DISC', 'online_access_flag': True, 'links': [{'rel': 'http://esipfed.org/ns/fedsearch/1.1/data#', 'title': 'Download SNDR.AQUA.AIRS_IM.20160101T0011.m06.g002.L2_CLIMCAPS_RET.std.v02_39.G.210412145010.nc', 'hreflang': 'en-US', 'href': 'https://data.gesdisc.earthdata.nasa.gov/data/Aqua_Sounder_Level2/SNDRAQIML2CCPRET.2/2016/001/SNDR.AQUA.AIRS_IM.20160101T0011.m06.g002.L2_CLIMCAPS_RET.std.v02_39.G.210412145010.nc'}, {'rel': 'http://esipfed.org/ns/fedsearch/1.1/s3#', 'title': 'This link provides direct download access via S3 to the granule', 'hreflang': 'en-US', 'href': 's3://gesdisc-cumulus-prod-protected/Aqua_Sounder_Level2/SNDRAQIML2CCPRET.2/2016/001/SNDR.AQUA.AIRS_IM.20160101T0011.m06.g002.L2_CLIMCAPS_RET.std.v02_39.G.210412145010.nc'}, {'rel': 'http://esipfed.org/ns/fedsearch/1.1/service#', 'type': 'application/x-netcdf', 'title': 'The OPENDAP location for the granule. (GET DATA : OPENDAP DATA)', 'hreflang': 'en-US', 'href': 'https://sounder.gesdisc.eosdis.nasa.gov/opendap/Aqua_Sounder_Level2/SNDRAQIML2CCPRET.2/2016/001/SNDR.AQUA.AIRS_IM.20160101T0011.m06.g002.L2_CLIMCAPS_RET.std.v02_39.G.210412145010.nc'}, {'rel': 'http://esipfed.org/ns/fedsearch/1.1/metadata#', 'title': 'api endpoint to retrieve temporary credentials valid for same-region direct s3 access (VIEW RELATED INFORMATION)', 'hreflang': 'en-US', 'href': 'https://data.gesdisc.earthdata.nasa.gov/s3credentials'}, {'inherited': True, 'rel': 'http://esipfed.org/ns/fedsearch/1.1/data#', 'hreflang': 'en-US', 'href': 'https://sounder.gesdisc.eosdis.nasa.gov/data/Aqua_Sounder_Level2/SNDRAQIML2CCPRET.2/'}, {'inherited': True, 'rel': 'http://esipfed.org/ns/fedsearch/1.1/service#', 'hreflang': 'en-US', 'href': 'https://sounder.gesdisc.eosdis.nasa.gov/opendap/Aqua_Sounder_Level2/SNDRAQIML2CCPRET.2/'}, {'inherited': True, 'rel': 'http://esipfed.org/ns/fedsearch/1.1/data#', 'hreflang': 'en-US', 'href': 'https://search.earthdata.nasa.gov/search?q=SNDRAQIML2CCPRET+2'}, {'inherited': True, 'rel': 'http://esipfed.org/ns/fedsearch/1.1/documentation#', 'hreflang': 'en-US', 'href': 'https://docserver.gesdisc.eosdis.nasa.gov/public/project/Sounder/CLIMCAPS.V2.README.pdf'}, {'inherited': True, 'rel': 'http://esipfed.org/ns/fedsearch/1.1/documentation#', 'hreflang': 'en-US', 'href': 'https://docserver.gesdisc.eosdis.nasa.gov/public/project/Sounder/CLIMCAPS.V2.ATBD.pdf'}, {'inherited': True, 'rel': 'http://esipfed.org/ns/fedsearch/1.1/metadata#', 'hreflang': 'en-US', 'href': 'https://airs.jpl.nasa.gov/index.html'}, {'inherited': True, 'rel': 'http://esipfed.org/ns/fedsearch/1.1/documentation#', 'hreflang': 'en-US', 'href': 'https://disc.gsfc.nasa.gov/information/documents?title=AIRS%20Documentation'}, {'inherited': True, 'rel': 'http://esipfed.org/ns/fedsearch/1.1/documentation#', 'hreflang': 'en-US', 'href': 'https://airs.jpl.nasa.gov/data/guides-docs/climcaps-science/'}, {'inherited': True, 'rel': 'http://esipfed.org/ns/fedsearch/1.1/documentation#', 'hreflang': 'en-US', 'href': 'https://docserver.gesdisc.eosdis.nasa.gov/public/project/Sounder/CLIMCAPS_V2_L2_science_guides.pdf'}]}, {'producer_granule_id': 'SNDR.AQUA.AIRS_IM.20160101T0017.m06.g003.L2_CLIMCAPS_RET.std.v02_39.G.210412145010.nc', 'time_start': '2016-01-01T00:17:22.000Z', 'updated': '2021-04-12T14:57:18.000Z', 'dataset_id': 'Sounder SIPS: AQUA AIRS IR + MW Level 2 CLIMCAPS: Atmosphere, cloud and surface geophysical state V2 at GES DISC', 'data_center': 'GES_DISC', 'title': 'SNDRAQIML2CCPRET.2:SNDR.AQUA.AIRS_IM.20160101T0017.m06.g003.L2_CLIMCAPS_RET.std.v02_39.G.210412145010.nc', 'coordinate_system': 'GEODETIC', 'day_night_flag': 'DAY', 'time_end': '2016-01-01T00:23:22.000Z', 'id': 'G2033053118-GES_DISC', 'original_format': 'ECHO10', 'granule_size': '21.020148277282715', 'browse_flag': False, 'polygons': [['36.13 -156.6 57.6 -159.95 53.47 172.6 33.26 -175.6 36.13 -156.6']], 'collection_concept_id': 'C1693440798-GES_DISC', 'online_access_flag': True, 'links': [{'rel': 'http://esipfed.org/ns/fedsearch/1.1/data#', 'title': 'Download SNDR.AQUA.AIRS_IM.20160101T0017.m06.g003.L2_CLIMCAPS_RET.std.v02_39.G.210412145010.nc', 'hreflang': 'en-US', 'href': 'https://data.gesdisc.earthdata.nasa.gov/data/Aqua_Sounder_Level2/SNDRAQIML2CCPRET.2/2016/001/SNDR.AQUA.AIRS_IM.20160101T0017.m06.g003.L2_CLIMCAPS_RET.std.v02_39.G.210412145010.nc'}, {'rel': 'http://esipfed.org/ns/fedsearch/1.1/s3#', 'title': 'This link provides direct download access via S3 to the granule', 'hreflang': 'en-US', 'href': 's3://gesdisc-cumulus-prod-protected/Aqua_Sounder_Level2/SNDRAQIML2CCPRET.2/2016/001/SNDR.AQUA.AIRS_IM.20160101T0017.m06.g003.L2_CLIMCAPS_RET.std.v02_39.G.210412145010.nc'}, {'rel': 'http://esipfed.org/ns/fedsearch/1.1/service#', 'type': 'application/x-netcdf', 'title': 'The OPENDAP location for the granule. (GET DATA : OPENDAP DATA)', 'hreflang': 'en-US', 'href': 'https://sounder.gesdisc.eosdis.nasa.gov/opendap/Aqua_Sounder_Level2/SNDRAQIML2CCPRET.2/2016/001/SNDR.AQUA.AIRS_IM.20160101T0017.m06.g003.L2_CLIMCAPS_RET.std.v02_39.G.210412145010.nc'}, {'rel': 'http://esipfed.org/ns/fedsearch/1.1/metadata#', 'title': 'api endpoint to retrieve temporary credentials valid for same-region direct s3 access (VIEW RELATED INFORMATION)', 'hreflang': 'en-US', 'href': 'https://data.gesdisc.earthdata.nasa.gov/s3credentials'}, {'inherited': True, 'rel': 'http://esipfed.org/ns/fedsearch/1.1/data#', 'hreflang': 'en-US', 'href': 'https://sounder.gesdisc.eosdis.nasa.gov/data/Aqua_Sounder_Level2/SNDRAQIML2CCPRET.2/'}, {'inherited': True, 'rel': 'http://esipfed.org/ns/fedsearch/1.1/service#', 'hreflang': 'en-US', 'href': 'https://sounder.gesdisc.eosdis.nasa.gov/opendap/Aqua_Sounder_Level2/SNDRAQIML2CCPRET.2/'}, {'inherited': True, 'rel': 'http://esipfed.org/ns/fedsearch/1.1/data#', 'hreflang': 'en-US', 'href': 'https://search.earthdata.nasa.gov/search?q=SNDRAQIML2CCPRET+2'}, {'inherited': True, 'rel': 'http://esipfed.org/ns/fedsearch/1.1/documentation#', 'hreflang': 'en-US', 'href': 'https://docserver.gesdisc.eosdis.nasa.gov/public/project/Sounder/CLIMCAPS.V2.README.pdf'}, {'inherited': True, 'rel': 'http://esipfed.org/ns/fedsearch/1.1/documentation#', 'hreflang': 'en-US', 'href': 'https://docserver.gesdisc.eosdis.nasa.gov/public/project/Sounder/CLIMCAPS.V2.ATBD.pdf'}, {'inherited': True, 'rel': 'http://esipfed.org/ns/fedsearch/1.1/metadata#', 'hreflang': 'en-US', 'href': 'https://airs.jpl.nasa.gov/index.html'}, {'inherited': True, 'rel': 'http://esipfed.org/ns/fedsearch/1.1/documentation#', 'hreflang': 'en-US', 'href': 'https://disc.gsfc.nasa.gov/information/documents?title=AIRS%20Documentation'}, {'inherited': True, 'rel': 'http://esipfed.org/ns/fedsearch/1.1/documentation#', 'hreflang': 'en-US', 'href': 'https://airs.jpl.nasa.gov/data/guides-docs/climcaps-science/'}, {'inherited': True, 'rel': 'http://esipfed.org/ns/fedsearch/1.1/documentation#', 'hreflang': 'en-US', 'href': 'https://docserver.gesdisc.eosdis.nasa.gov/public/project/Sounder/CLIMCAPS_V2_L2_science_guides.pdf'}]}, {'producer_granule_id': 'SNDR.AQUA.AIRS_IM.20160101T0023.m06.g004.L2_CLIMCAPS_RET.std.v02_39.G.210412145010.nc', 'time_start': '2016-01-01T00:23:22.000Z', 'updated': '2021-04-12T14:57:13.000Z', 'dataset_id': 'Sounder SIPS: AQUA AIRS IR + MW Level 2 CLIMCAPS: Atmosphere, cloud and surface geophysical state V2 at GES DISC', 'data_center': 'GES_DISC', 'title': 'SNDRAQIML2CCPRET.2:SNDR.AQUA.AIRS_IM.20160101T0023.m06.g004.L2_CLIMCAPS_RET.std.v02_39.G.210412145010.nc', 'coordinate_system': 'GEODETIC', 'day_night_flag': 'BOTH', 'time_end': '2016-01-01T00:29:22.000Z', 'id': 'G2033052936-GES_DISC', 'original_format': 'ECHO10', 'granule_size': '21.141494750976562', 'browse_flag': False, 'polygons': [['57.76 -159.96 79.16 -163.5 70.4 141.1 53.62 172.47 57.76 -159.96']], 'collection_concept_id': 'C1693440798-GES_DISC', 'online_access_flag': True, 'links': [{'rel': 'http://esipfed.org/ns/fedsearch/1.1/data#', 'title': 'Download SNDR.AQUA.AIRS_IM.20160101T0023.m06.g004.L2_CLIMCAPS_RET.std.v02_39.G.210412145010.nc', 'hreflang': 'en-US', 'href': 'https://data.gesdisc.earthdata.nasa.gov/data/Aqua_Sounder_Level2/SNDRAQIML2CCPRET.2/2016/001/SNDR.AQUA.AIRS_IM.20160101T0023.m06.g004.L2_CLIMCAPS_RET.std.v02_39.G.210412145010.nc'}, {'rel': 'http://esipfed.org/ns/fedsearch/1.1/s3#', 'title': 'This link provides direct download access via S3 to the granule', 'hreflang': 'en-US', 'href': 's3://gesdisc-cumulus-prod-protected/Aqua_Sounder_Level2/SNDRAQIML2CCPRET.2/2016/001/SNDR.AQUA.AIRS_IM.20160101T0023.m06.g004.L2_CLIMCAPS_RET.std.v02_39.G.210412145010.nc'}, {'rel': 'http://esipfed.org/ns/fedsearch/1.1/service#', 'type': 'application/x-netcdf', 'title': 'The OPENDAP location for the granule. (GET DATA : OPENDAP DATA)', 'hreflang': 'en-US', 'href': 'https://sounder.gesdisc.eosdis.nasa.gov/opendap/Aqua_Sounder_Level2/SNDRAQIML2CCPRET.2/2016/001/SNDR.AQUA.AIRS_IM.20160101T0023.m06.g004.L2_CLIMCAPS_RET.std.v02_39.G.210412145010.nc'}, {'rel': 'http://esipfed.org/ns/fedsearch/1.1/metadata#', 'title': 'api endpoint to retrieve temporary credentials valid for same-region direct s3 access (VIEW RELATED INFORMATION)', 'hreflang': 'en-US', 'href': 'https://data.gesdisc.earthdata.nasa.gov/s3credentials'}, {'inherited': True, 'rel': 'http://esipfed.org/ns/fedsearch/1.1/data#', 'hreflang': 'en-US', 'href': 'https://sounder.gesdisc.eosdis.nasa.gov/data/Aqua_Sounder_Level2/SNDRAQIML2CCPRET.2/'}, {'inherited': True, 'rel': 'http://esipfed.org/ns/fedsearch/1.1/service#', 'hreflang': 'en-US', 'href': 'https://sounder.gesdisc.eosdis.nasa.gov/opendap/Aqua_Sounder_Level2/SNDRAQIML2CCPRET.2/'}, {'inherited': True, 'rel': 'http://esipfed.org/ns/fedsearch/1.1/data#', 'hreflang': 'en-US', 'href': 'https://search.earthdata.nasa.gov/search?q=SNDRAQIML2CCPRET+2'}, {'inherited': True, 'rel': 'http://esipfed.org/ns/fedsearch/1.1/documentation#', 'hreflang': 'en-US', 'href': 'https://docserver.gesdisc.eosdis.nasa.gov/public/project/Sounder/CLIMCAPS.V2.README.pdf'}, {'inherited': True, 'rel': 'http://esipfed.org/ns/fedsearch/1.1/documentation#', 'hreflang': 'en-US', 'href': 'https://docserver.gesdisc.eosdis.nasa.gov/public/project/Sounder/CLIMCAPS.V2.ATBD.pdf'}, {'inherited': True, 'rel': 'http://esipfed.org/ns/fedsearch/1.1/metadata#', 'hreflang': 'en-US', 'href': 'https://airs.jpl.nasa.gov/index.html'}, {'inherited': True, 'rel': 'http://esipfed.org/ns/fedsearch/1.1/documentation#', 'hreflang': 'en-US', 'href': 'https://disc.gsfc.nasa.gov/information/documents?title=AIRS%20Documentation'}, {'inherited': True, 'rel': 'http://esipfed.org/ns/fedsearch/1.1/documentation#', 'hreflang': 'en-US', 'href': 'https://airs.jpl.nasa.gov/data/guides-docs/climcaps-science/'}, {'inherited': True, 'rel': 'http://esipfed.org/ns/fedsearch/1.1/documentation#', 'hreflang': 'en-US', 'href': 'https://docserver.gesdisc.eosdis.nasa.gov/public/project/Sounder/CLIMCAPS_V2_L2_science_guides.pdf'}]}, {'producer_granule_id': 'SNDR.AQUA.AIRS_IM.20160101T0029.m06.g005.L2_CLIMCAPS_RET.std.v02_39.G.210412145010.nc', 'time_start': '2016-01-01T00:29:22.000Z', 'updated': '2021-04-12T15:02:08.000Z', 'dataset_id': 'Sounder SIPS: AQUA AIRS IR + MW Level 2 CLIMCAPS: Atmosphere, cloud and surface geophysical state V2 at GES DISC', 'data_center': 'GES_DISC', 'title': 'SNDRAQIML2CCPRET.2:SNDR.AQUA.AIRS_IM.20160101T0029.m06.g005.L2_CLIMCAPS_RET.std.v02_39.G.210412145010.nc', 'coordinate_system': 'GEODETIC', 'day_night_flag': 'NIGHT', 'time_end': '2016-01-01T00:35:22.000Z', 'id': 'G2033053759-GES_DISC', 'original_format': 'ECHO10', 'granule_size': '21.32180881500244', 'browse_flag': False, 'polygons': [['79.32 -163.54 79.31 15.07 70.62 71.48 70.49 140.69 79.32 -163.54']], 'collection_concept_id': 'C1693440798-GES_DISC', 'online_access_flag': True, 'links': [{'rel': 'http://esipfed.org/ns/fedsearch/1.1/data#', 'title': 'Download SNDR.AQUA.AIRS_IM.20160101T0029.m06.g005.L2_CLIMCAPS_RET.std.v02_39.G.210412145010.nc', 'hreflang': 'en-US', 'href': 'https://data.gesdisc.earthdata.nasa.gov/data/Aqua_Sounder_Level2/SNDRAQIML2CCPRET.2/2016/001/SNDR.AQUA.AIRS_IM.20160101T0029.m06.g005.L2_CLIMCAPS_RET.std.v02_39.G.210412145010.nc'}, {'rel': 'http://esipfed.org/ns/fedsearch/1.1/s3#', 'title': 'This link provides direct download access via S3 to the granule', 'hreflang': 'en-US', 'href': 's3://gesdisc-cumulus-prod-protected/Aqua_Sounder_Level2/SNDRAQIML2CCPRET.2/2016/001/SNDR.AQUA.AIRS_IM.20160101T0029.m06.g005.L2_CLIMCAPS_RET.std.v02_39.G.210412145010.nc'}, {'rel': 'http://esipfed.org/ns/fedsearch/1.1/service#', 'type': 'application/x-netcdf', 'title': 'The OPENDAP location for the granule. (GET DATA : OPENDAP DATA)', 'hreflang': 'en-US', 'href': 'https://sounder.gesdisc.eosdis.nasa.gov/opendap/Aqua_Sounder_Level2/SNDRAQIML2CCPRET.2/2016/001/SNDR.AQUA.AIRS_IM.20160101T0029.m06.g005.L2_CLIMCAPS_RET.std.v02_39.G.210412145010.nc'}, {'rel': 'http://esipfed.org/ns/fedsearch/1.1/metadata#', 'title': 'api endpoint to retrieve temporary credentials valid for same-region direct s3 access (VIEW RELATED INFORMATION)', 'hreflang': 'en-US', 'href': 'https://data.gesdisc.earthdata.nasa.gov/s3credentials'}, {'inherited': True, 'rel': 'http://esipfed.org/ns/fedsearch/1.1/data#', 'hreflang': 'en-US', 'href': 'https://sounder.gesdisc.eosdis.nasa.gov/data/Aqua_Sounder_Level2/SNDRAQIML2CCPRET.2/'}, {'inherited': True, 'rel': 'http://esipfed.org/ns/fedsearch/1.1/service#', 'hreflang': 'en-US', 'href': 'https://sounder.gesdisc.eosdis.nasa.gov/opendap/Aqua_Sounder_Level2/SNDRAQIML2CCPRET.2/'}, {'inherited': True, 'rel': 'http://esipfed.org/ns/fedsearch/1.1/data#', 'hreflang': 'en-US', 'href': 'https://search.earthdata.nasa.gov/search?q=SNDRAQIML2CCPRET+2'}, {'inherited': True, 'rel': 'http://esipfed.org/ns/fedsearch/1.1/documentation#', 'hreflang': 'en-US', 'href': 'https://docserver.gesdisc.eosdis.nasa.gov/public/project/Sounder/CLIMCAPS.V2.README.pdf'}, {'inherited': True, 'rel': 'http://esipfed.org/ns/fedsearch/1.1/documentation#', 'hreflang': 'en-US', 'href': 'https://docserver.gesdisc.eosdis.nasa.gov/public/project/Sounder/CLIMCAPS.V2.ATBD.pdf'}, {'inherited': True, 'rel': 'http://esipfed.org/ns/fedsearch/1.1/metadata#', 'hreflang': 'en-US', 'href': 'https://airs.jpl.nasa.gov/index.html'}, {'inherited': True, 'rel': 'http://esipfed.org/ns/fedsearch/1.1/documentation#', 'hreflang': 'en-US', 'href': 'https://disc.gsfc.nasa.gov/information/documents?title=AIRS%20Documentation'}, {'inherited': True, 'rel': 'http://esipfed.org/ns/fedsearch/1.1/documentation#', 'hreflang': 'en-US', 'href': 'https://airs.jpl.nasa.gov/data/guides-docs/climcaps-science/'}, {'inherited': True, 'rel': 'http://esipfed.org/ns/fedsearch/1.1/documentation#', 'hreflang': 'en-US', 'href': 'https://docserver.gesdisc.eosdis.nasa.gov/public/project/Sounder/CLIMCAPS_V2_L2_science_guides.pdf'}]}, {'producer_granule_id': 'SNDR.AQUA.AIRS_IM.20160101T0035.m06.g006.L2_CLIMCAPS_RET.std.v02_39.G.210412145010.nc', 'time_start': '2016-01-01T00:35:22.000Z', 'updated': '2021-04-12T14:59:45.000Z', 'dataset_id': 'Sounder SIPS: AQUA AIRS IR + MW Level 2 CLIMCAPS: Atmosphere, cloud and surface geophysical state V2 at GES DISC', 'data_center': 'GES_DISC', 'title': 'SNDRAQIML2CCPRET.2:SNDR.AQUA.AIRS_IM.20160101T0035.m06.g006.L2_CLIMCAPS_RET.std.v02_39.G.210412145010.nc', 'coordinate_system': 'GEODETIC', 'day_night_flag': 'NIGHT', 'time_end': '2016-01-01T00:41:22.000Z', 'id': 'G2033054684-GES_DISC', 'original_format': 'ECHO10', 'granule_size': '21.78029155731201', 'browse_flag': False, 'polygons': [['79.16 15.04 57.76 11.5 53.83 39.3 70.53 71.07 79.16 15.04']], 'collection_concept_id': 'C1693440798-GES_DISC', 'online_access_flag': True, 'links': [{'rel': 'http://esipfed.org/ns/fedsearch/1.1/data#', 'title': 'Download SNDR.AQUA.AIRS_IM.20160101T0035.m06.g006.L2_CLIMCAPS_RET.std.v02_39.G.210412145010.nc', 'hreflang': 'en-US', 'href': 'https://data.gesdisc.earthdata.nasa.gov/data/Aqua_Sounder_Level2/SNDRAQIML2CCPRET.2/2016/001/SNDR.AQUA.AIRS_IM.20160101T0035.m06.g006.L2_CLIMCAPS_RET.std.v02_39.G.210412145010.nc'}, {'rel': 'http://esipfed.org/ns/fedsearch/1.1/s3#', 'title': 'This link provides direct download access via S3 to the granule', 'hreflang': 'en-US', 'href': 's3://gesdisc-cumulus-prod-protected/Aqua_Sounder_Level2/SNDRAQIML2CCPRET.2/2016/001/SNDR.AQUA.AIRS_IM.20160101T0035.m06.g006.L2_CLIMCAPS_RET.std.v02_39.G.210412145010.nc'}, {'rel': 'http://esipfed.org/ns/fedsearch/1.1/service#', 'type': 'application/x-netcdf', 'title': 'The OPENDAP location for the granule. (GET DATA : OPENDAP DATA)', 'hreflang': 'en-US', 'href': 'https://sounder.gesdisc.eosdis.nasa.gov/opendap/Aqua_Sounder_Level2/SNDRAQIML2CCPRET.2/2016/001/SNDR.AQUA.AIRS_IM.20160101T0035.m06.g006.L2_CLIMCAPS_RET.std.v02_39.G.210412145010.nc'}, {'rel': 'http://esipfed.org/ns/fedsearch/1.1/metadata#', 'title': 'api endpoint to retrieve temporary credentials valid for same-region direct s3 access (VIEW RELATED INFORMATION)', 'hreflang': 'en-US', 'href': 'https://data.gesdisc.earthdata.nasa.gov/s3credentials'}, {'inherited': True, 'rel': 'http://esipfed.org/ns/fedsearch/1.1/data#', 'hreflang': 'en-US', 'href': 'https://sounder.gesdisc.eosdis.nasa.gov/data/Aqua_Sounder_Level2/SNDRAQIML2CCPRET.2/'}, {'inherited': True, 'rel': 'http://esipfed.org/ns/fedsearch/1.1/service#', 'hreflang': 'en-US', 'href': 'https://sounder.gesdisc.eosdis.nasa.gov/opendap/Aqua_Sounder_Level2/SNDRAQIML2CCPRET.2/'}, {'inherited': True, 'rel': 'http://esipfed.org/ns/fedsearch/1.1/data#', 'hreflang': 'en-US', 'href': 'https://search.earthdata.nasa.gov/search?q=SNDRAQIML2CCPRET+2'}, {'inherited': True, 'rel': 'http://esipfed.org/ns/fedsearch/1.1/documentation#', 'hreflang': 'en-US', 'href': 'https://docserver.gesdisc.eosdis.nasa.gov/public/project/Sounder/CLIMCAPS.V2.README.pdf'}, {'inherited': True, 'rel': 'http://esipfed.org/ns/fedsearch/1.1/documentation#', 'hreflang': 'en-US', 'href': 'https://docserver.gesdisc.eosdis.nasa.gov/public/project/Sounder/CLIMCAPS.V2.ATBD.pdf'}, {'inherited': True, 'rel': 'http://esipfed.org/ns/fedsearch/1.1/metadata#', 'hreflang': 'en-US', 'href': 'https://airs.jpl.nasa.gov/index.html'}, {'inherited': True, 'rel': 'http://esipfed.org/ns/fedsearch/1.1/documentation#', 'hreflang': 'en-US', 'href': 'https://disc.gsfc.nasa.gov/information/documents?title=AIRS%20Documentation'}, {'inherited': True, 'rel': 'http://esipfed.org/ns/fedsearch/1.1/documentation#', 'hreflang': 'en-US', 'href': 'https://airs.jpl.nasa.gov/data/guides-docs/climcaps-science/'}, {'inherited': True, 'rel': 'http://esipfed.org/ns/fedsearch/1.1/documentation#', 'hreflang': 'en-US', 'href': 'https://docserver.gesdisc.eosdis.nasa.gov/public/project/Sounder/CLIMCAPS_V2_L2_science_guides.pdf'}]}, {'producer_granule_id': 'SNDR.AQUA.AIRS_IM.20160101T0041.m06.g007.L2_CLIMCAPS_RET.std.v02_39.G.210412145010.nc', 'time_start': '2016-01-01T00:41:22.000Z', 'updated': '2021-04-12T14:56:03.000Z', 'dataset_id': 'Sounder SIPS: AQUA AIRS IR + MW Level 2 CLIMCAPS: Atmosphere, cloud and surface geophysical state V2 at GES DISC', 'data_center': 'GES_DISC', 'title': 'SNDRAQIML2CCPRET.2:SNDR.AQUA.AIRS_IM.20160101T0041.m06.g007.L2_CLIMCAPS_RET.std.v02_39.G.210412145010.nc', 'coordinate_system': 'GEODETIC', 'day_night_flag': 'NIGHT', 'time_end': '2016-01-01T00:47:22.000Z', 'id': 'G2033053392-GES_DISC', 'original_format': 'ECHO10', 'granule_size': '21.659586906433105', 'browse_flag': False, 'polygons': [['57.6 11.48 36.14 8.14 33.49 27.27 53.69 39.17 57.6 11.48']], 'collection_concept_id': 'C1693440798-GES_DISC', 'online_access_flag': True, 'links': [{'rel': 'http://esipfed.org/ns/fedsearch/1.1/data#', 'title': 'Download SNDR.AQUA.AIRS_IM.20160101T0041.m06.g007.L2_CLIMCAPS_RET.std.v02_39.G.210412145010.nc', 'hreflang': 'en-US', 'href': 'https://data.gesdisc.earthdata.nasa.gov/data/Aqua_Sounder_Level2/SNDRAQIML2CCPRET.2/2016/001/SNDR.AQUA.AIRS_IM.20160101T0041.m06.g007.L2_CLIMCAPS_RET.std.v02_39.G.210412145010.nc'}, {'rel': 'http://esipfed.org/ns/fedsearch/1.1/s3#', 'title': 'This link provides direct download access via S3 to the granule', 'hreflang': 'en-US', 'href': 's3://gesdisc-cumulus-prod-protected/Aqua_Sounder_Level2/SNDRAQIML2CCPRET.2/2016/001/SNDR.AQUA.AIRS_IM.20160101T0041.m06.g007.L2_CLIMCAPS_RET.std.v02_39.G.210412145010.nc'}, {'rel': 'http://esipfed.org/ns/fedsearch/1.1/service#', 'type': 'application/x-netcdf', 'title': 'The OPENDAP location for the granule. (GET DATA : OPENDAP DATA)', 'hreflang': 'en-US', 'href': 'https://sounder.gesdisc.eosdis.nasa.gov/opendap/Aqua_Sounder_Level2/SNDRAQIML2CCPRET.2/2016/001/SNDR.AQUA.AIRS_IM.20160101T0041.m06.g007.L2_CLIMCAPS_RET.std.v02_39.G.210412145010.nc'}, {'rel': 'http://esipfed.org/ns/fedsearch/1.1/metadata#', 'title': 'api endpoint to retrieve temporary credentials valid for same-region direct s3 access (VIEW RELATED INFORMATION)', 'hreflang': 'en-US', 'href': 'https://data.gesdisc.earthdata.nasa.gov/s3credentials'}, {'inherited': True, 'rel': 'http://esipfed.org/ns/fedsearch/1.1/data#', 'hreflang': 'en-US', 'href': 'https://sounder.gesdisc.eosdis.nasa.gov/data/Aqua_Sounder_Level2/SNDRAQIML2CCPRET.2/'}, {'inherited': True, 'rel': 'http://esipfed.org/ns/fedsearch/1.1/service#', 'hreflang': 'en-US', 'href': 'https://sounder.gesdisc.eosdis.nasa.gov/opendap/Aqua_Sounder_Level2/SNDRAQIML2CCPRET.2/'}, {'inherited': True, 'rel': 'http://esipfed.org/ns/fedsearch/1.1/data#', 'hreflang': 'en-US', 'href': 'https://search.earthdata.nasa.gov/search?q=SNDRAQIML2CCPRET+2'}, {'inherited': True, 'rel': 'http://esipfed.org/ns/fedsearch/1.1/documentation#', 'hreflang': 'en-US', 'href': 'https://docserver.gesdisc.eosdis.nasa.gov/public/project/Sounder/CLIMCAPS.V2.README.pdf'}, {'inherited': True, 'rel': 'http://esipfed.org/ns/fedsearch/1.1/documentation#', 'hreflang': 'en-US', 'href': 'https://docserver.gesdisc.eosdis.nasa.gov/public/project/Sounder/CLIMCAPS.V2.ATBD.pdf'}, {'inherited': True, 'rel': 'http://esipfed.org/ns/fedsearch/1.1/metadata#', 'hreflang': 'en-US', 'href': 'https://airs.jpl.nasa.gov/index.html'}, {'inherited': True, 'rel': 'http://esipfed.org/ns/fedsearch/1.1/documentation#', 'hreflang': 'en-US', 'href': 'https://disc.gsfc.nasa.gov/information/documents?title=AIRS%20Documentation'}, {'inherited': True, 'rel': 'http://esipfed.org/ns/fedsearch/1.1/documentation#', 'hreflang': 'en-US', 'href': 'https://airs.jpl.nasa.gov/data/guides-docs/climcaps-science/'}, {'inherited': True, 'rel': 'http://esipfed.org/ns/fedsearch/1.1/documentation#', 'hreflang': 'en-US', 'href': 'https://docserver.gesdisc.eosdis.nasa.gov/public/project/Sounder/CLIMCAPS_V2_L2_science_guides.pdf'}]}, {'producer_granule_id': 'SNDR.AQUA.AIRS_IM.20160101T0047.m06.g008.L2_CLIMCAPS_RET.std.v02_39.G.210412145010.nc', 'time_start': '2016-01-01T00:47:22.000Z', 'updated': '2021-04-12T14:59:47.000Z', 'dataset_id': 'Sounder SIPS: AQUA AIRS IR + MW Level 2 CLIMCAPS: Atmosphere, cloud and surface geophysical state V2 at GES DISC', 'data_center': 'GES_DISC', 'title': 'SNDRAQIML2CCPRET.2:SNDR.AQUA.AIRS_IM.20160101T0047.m06.g008.L2_CLIMCAPS_RET.std.v02_39.G.210412145010.nc', 'coordinate_system': 'GEODETIC', 'day_night_flag': 'NIGHT', 'time_end': '2016-01-01T00:53:22.000Z', 'id': 'G2033054591-GES_DISC', 'original_format': 'ECHO10', 'granule_size': '21.296817779541016', 'browse_flag': False, 'polygons': [['35.98 8.11 14.49 4.41 12.28 20.57 33.34 27.21 35.98 8.11']], 'collection_concept_id': 'C1693440798-GES_DISC', 'online_access_flag': True, 'links': [{'rel': 'http://esipfed.org/ns/fedsearch/1.1/data#', 'title': 'Download SNDR.AQUA.AIRS_IM.20160101T0047.m06.g008.L2_CLIMCAPS_RET.std.v02_39.G.210412145010.nc', 'hreflang': 'en-US', 'href': 'https://data.gesdisc.earthdata.nasa.gov/data/Aqua_Sounder_Level2/SNDRAQIML2CCPRET.2/2016/001/SNDR.AQUA.AIRS_IM.20160101T0047.m06.g008.L2_CLIMCAPS_RET.std.v02_39.G.210412145010.nc'}, {'rel': 'http://esipfed.org/ns/fedsearch/1.1/s3#', 'title': 'This link provides direct download access via S3 to the granule', 'hreflang': 'en-US', 'href': 's3://gesdisc-cumulus-prod-protected/Aqua_Sounder_Level2/SNDRAQIML2CCPRET.2/2016/001/SNDR.AQUA.AIRS_IM.20160101T0047.m06.g008.L2_CLIMCAPS_RET.std.v02_39.G.210412145010.nc'}, {'rel': 'http://esipfed.org/ns/fedsearch/1.1/service#', 'type': 'application/x-netcdf', 'title': 'The OPENDAP location for the granule. (GET DATA : OPENDAP DATA)', 'hreflang': 'en-US', 'href': 'https://sounder.gesdisc.eosdis.nasa.gov/opendap/Aqua_Sounder_Level2/SNDRAQIML2CCPRET.2/2016/001/SNDR.AQUA.AIRS_IM.20160101T0047.m06.g008.L2_CLIMCAPS_RET.std.v02_39.G.210412145010.nc'}, {'rel': 'http://esipfed.org/ns/fedsearch/1.1/metadata#', 'title': 'api endpoint to retrieve temporary credentials valid for same-region direct s3 access (VIEW RELATED INFORMATION)', 'hreflang': 'en-US', 'href': 'https://data.gesdisc.earthdata.nasa.gov/s3credentials'}, {'inherited': True, 'rel': 'http://esipfed.org/ns/fedsearch/1.1/data#', 'hreflang': 'en-US', 'href': 'https://sounder.gesdisc.eosdis.nasa.gov/data/Aqua_Sounder_Level2/SNDRAQIML2CCPRET.2/'}, {'inherited': True, 'rel': 'http://esipfed.org/ns/fedsearch/1.1/service#', 'hreflang': 'en-US', 'href': 'https://sounder.gesdisc.eosdis.nasa.gov/opendap/Aqua_Sounder_Level2/SNDRAQIML2CCPRET.2/'}, {'inherited': True, 'rel': 'http://esipfed.org/ns/fedsearch/1.1/data#', 'hreflang': 'en-US', 'href': 'https://search.earthdata.nasa.gov/search?q=SNDRAQIML2CCPRET+2'}, {'inherited': True, 'rel': 'http://esipfed.org/ns/fedsearch/1.1/documentation#', 'hreflang': 'en-US', 'href': 'https://docserver.gesdisc.eosdis.nasa.gov/public/project/Sounder/CLIMCAPS.V2.README.pdf'}, {'inherited': True, 'rel': 'http://esipfed.org/ns/fedsearch/1.1/documentation#', 'hreflang': 'en-US', 'href': 'https://docserver.gesdisc.eosdis.nasa.gov/public/project/Sounder/CLIMCAPS.V2.ATBD.pdf'}, {'inherited': True, 'rel': 'http://esipfed.org/ns/fedsearch/1.1/metadata#', 'hreflang': 'en-US', 'href': 'https://airs.jpl.nasa.gov/index.html'}, {'inherited': True, 'rel': 'http://esipfed.org/ns/fedsearch/1.1/documentation#', 'hreflang': 'en-US', 'href': 'https://disc.gsfc.nasa.gov/information/documents?title=AIRS%20Documentation'}, {'inherited': True, 'rel': 'http://esipfed.org/ns/fedsearch/1.1/documentation#', 'hreflang': 'en-US', 'href': 'https://airs.jpl.nasa.gov/data/guides-docs/climcaps-science/'}, {'inherited': True, 'rel': 'http://esipfed.org/ns/fedsearch/1.1/documentation#', 'hreflang': 'en-US', 'href': 'https://docserver.gesdisc.eosdis.nasa.gov/public/project/Sounder/CLIMCAPS_V2_L2_science_guides.pdf'}]}, {'producer_granule_id': 'SNDR.AQUA.AIRS_IM.20160101T0053.m06.g009.L2_CLIMCAPS_RET.std.v02_39.G.210412145010.nc', 'time_start': '2016-01-01T00:53:22.000Z', 'updated': '2021-04-12T14:56:05.000Z', 'dataset_id': 'Sounder SIPS: AQUA AIRS IR + MW Level 2 CLIMCAPS: Atmosphere, cloud and surface geophysical state V2 at GES DISC', 'data_center': 'GES_DISC', 'title': 'SNDRAQIML2CCPRET.2:SNDR.AQUA.AIRS_IM.20160101T0053.m06.g009.L2_CLIMCAPS_RET.std.v02_39.G.210412145010.nc', 'coordinate_system': 'GEODETIC', 'day_night_flag': 'NIGHT', 'time_end': '2016-01-01T00:59:22.000Z', 'id': 'G2033054524-GES_DISC', 'original_format': 'ECHO10', 'granule_size': '21.252570152282715', 'browse_flag': False, 'polygons': [['14.33 4.38 -7.07 -0.09 -9.26 15.86 12.12 20.53 14.33 4.38']], 'collection_concept_id': 'C1693440798-GES_DISC', 'online_access_flag': True, 'links': [{'rel': 'http://esipfed.org/ns/fedsearch/1.1/data#', 'title': 'Download SNDR.AQUA.AIRS_IM.20160101T0053.m06.g009.L2_CLIMCAPS_RET.std.v02_39.G.210412145010.nc', 'hreflang': 'en-US', 'href': 'https://data.gesdisc.earthdata.nasa.gov/data/Aqua_Sounder_Level2/SNDRAQIML2CCPRET.2/2016/001/SNDR.AQUA.AIRS_IM.20160101T0053.m06.g009.L2_CLIMCAPS_RET.std.v02_39.G.210412145010.nc'}, {'rel': 'http://esipfed.org/ns/fedsearch/1.1/s3#', 'title': 'This link provides direct download access via S3 to the granule', 'hreflang': 'en-US', 'href': 's3://gesdisc-cumulus-prod-protected/Aqua_Sounder_Level2/SNDRAQIML2CCPRET.2/2016/001/SNDR.AQUA.AIRS_IM.20160101T0053.m06.g009.L2_CLIMCAPS_RET.std.v02_39.G.210412145010.nc'}, {'rel': 'http://esipfed.org/ns/fedsearch/1.1/service#', 'type': 'application/x-netcdf', 'title': 'The OPENDAP location for the granule. (GET DATA : OPENDAP DATA)', 'hreflang': 'en-US', 'href': 'https://sounder.gesdisc.eosdis.nasa.gov/opendap/Aqua_Sounder_Level2/SNDRAQIML2CCPRET.2/2016/001/SNDR.AQUA.AIRS_IM.20160101T0053.m06.g009.L2_CLIMCAPS_RET.std.v02_39.G.210412145010.nc'}, {'rel': 'http://esipfed.org/ns/fedsearch/1.1/metadata#', 'title': 'api endpoint to retrieve temporary credentials valid for same-region direct s3 access (VIEW RELATED INFORMATION)', 'hreflang': 'en-US', 'href': 'https://data.gesdisc.earthdata.nasa.gov/s3credentials'}, {'inherited': True, 'rel': 'http://esipfed.org/ns/fedsearch/1.1/data#', 'hreflang': 'en-US', 'href': 'https://sounder.gesdisc.eosdis.nasa.gov/data/Aqua_Sounder_Level2/SNDRAQIML2CCPRET.2/'}, {'inherited': True, 'rel': 'http://esipfed.org/ns/fedsearch/1.1/service#', 'hreflang': 'en-US', 'href': 'https://sounder.gesdisc.eosdis.nasa.gov/opendap/Aqua_Sounder_Level2/SNDRAQIML2CCPRET.2/'}, {'inherited': True, 'rel': 'http://esipfed.org/ns/fedsearch/1.1/data#', 'hreflang': 'en-US', 'href': 'https://search.earthdata.nasa.gov/search?q=SNDRAQIML2CCPRET+2'}, {'inherited': True, 'rel': 'http://esipfed.org/ns/fedsearch/1.1/documentation#', 'hreflang': 'en-US', 'href': 'https://docserver.gesdisc.eosdis.nasa.gov/public/project/Sounder/CLIMCAPS.V2.README.pdf'}, {'inherited': True, 'rel': 'http://esipfed.org/ns/fedsearch/1.1/documentation#', 'hreflang': 'en-US', 'href': 'https://docserver.gesdisc.eosdis.nasa.gov/public/project/Sounder/CLIMCAPS.V2.ATBD.pdf'}, {'inherited': True, 'rel': 'http://esipfed.org/ns/fedsearch/1.1/metadata#', 'hreflang': 'en-US', 'href': 'https://airs.jpl.nasa.gov/index.html'}, {'inherited': True, 'rel': 'http://esipfed.org/ns/fedsearch/1.1/documentation#', 'hreflang': 'en-US', 'href': 'https://disc.gsfc.nasa.gov/information/documents?title=AIRS%20Documentation'}, {'inherited': True, 'rel': 'http://esipfed.org/ns/fedsearch/1.1/documentation#', 'hreflang': 'en-US', 'href': 'https://airs.jpl.nasa.gov/data/guides-docs/climcaps-science/'}, {'inherited': True, 'rel': 'http://esipfed.org/ns/fedsearch/1.1/documentation#', 'hreflang': 'en-US', 'href': 'https://docserver.gesdisc.eosdis.nasa.gov/public/project/Sounder/CLIMCAPS_V2_L2_science_guides.pdf'}]}]\n"
     ]
    }
   ],
   "source": [
    "url = 'https://cmr.earthdata.nasa.gov/search/granules'\n",
    "\n",
    "shortname = 'SNDRAQIML2CCPRET'\n",
    "concept_id = 'C1693440798-GES_DISC'\n",
    "\n",
    "start_time = '2016-01-01T00:00:00Z'\n",
    "end_time = '2016-01-01T06:00:00Z'\n",
    "ß\n",
    "# OPTION 1: Using shortname\n",
    "response = cmr_request({\n",
    "                        'shortname': shortname,\n",
    "                        'temporal': start_time+','+end_time,\n",
    "                        })\n",
    "\n",
    "# OPTION 2: Using concept ID\n",
    "response = cmr_request({\n",
    "                        'concept_id': concept_id,\n",
    "                        'temporal': start_time+','+end_time,\n",
    "                        })\n",
    "\n",
    "# Pretty print the JSON response, where we can see which entry contains the S3 link:\n",
    "#pprint.pprint(response.json()['feed']['entry'][0]['links'])\n",
    "\n",
    "#print(response.json()['feed']['entry'])\n",
    "print(response.headers['CMR-Hits'])\n",
    "granules = response.json()['feed']['entry']\n",
    "print(granules)"
   ]
  },
  {
   "cell_type": "markdown",
   "id": "6837abc2",
   "metadata": {},
   "source": [
    "Now, we can parse out that link, and assign it to a variable:"
   ]
  },
  {
   "cell_type": "code",
   "execution_count": 20,
   "id": "b8d22e65",
   "metadata": {
    "tags": []
   },
   "outputs": [],
   "source": [
    "#climcaps_s3_link = response.json()['feed']['entry'][0]['links'][1]['href']\n",
    "#print(climcaps_s3_link)\n",
    "\n",
    "#[print('Granule',i['links']) for i in granules]\n",
    "# for i in granules:\n",
    "#     print(i['links'])\n",
    "\n",
    "#'title': 'This link provides direct download access via S3 to the granule'\n",
    "#'href' is they key for the S3 links\n",
    "\n",
    "test = granules[0]['links']"
   ]
  },
  {
   "cell_type": "code",
   "execution_count": 21,
   "id": "9360a096-bcc9-41b0-97ff-d6940731dd4f",
   "metadata": {},
   "outputs": [
    {
     "data": {
      "text/plain": [
       "[{'rel': 'http://esipfed.org/ns/fedsearch/1.1/data#',\n",
       "  'title': 'Download SNDR.AQUA.AIRS_IM.20151231T2359.m06.g240.L2_CLIMCAPS_RET.std.v02_39.G.210425005357.nc',\n",
       "  'hreflang': 'en-US',\n",
       "  'href': 'https://data.gesdisc.earthdata.nasa.gov/data/Aqua_Sounder_Level2/SNDRAQIML2CCPRET.2/2015/365/SNDR.AQUA.AIRS_IM.20151231T2359.m06.g240.L2_CLIMCAPS_RET.std.v02_39.G.210425005357.nc'},\n",
       " {'rel': 'http://esipfed.org/ns/fedsearch/1.1/s3#',\n",
       "  'title': 'This link provides direct download access via S3 to the granule',\n",
       "  'hreflang': 'en-US',\n",
       "  'href': 's3://gesdisc-cumulus-prod-protected/Aqua_Sounder_Level2/SNDRAQIML2CCPRET.2/2015/365/SNDR.AQUA.AIRS_IM.20151231T2359.m06.g240.L2_CLIMCAPS_RET.std.v02_39.G.210425005357.nc'},\n",
       " {'rel': 'http://esipfed.org/ns/fedsearch/1.1/service#',\n",
       "  'type': 'application/x-netcdf',\n",
       "  'title': 'The OPENDAP location for the granule. (GET DATA : OPENDAP DATA)',\n",
       "  'hreflang': 'en-US',\n",
       "  'href': 'https://sounder.gesdisc.eosdis.nasa.gov/opendap/Aqua_Sounder_Level2/SNDRAQIML2CCPRET.2/2015/365/SNDR.AQUA.AIRS_IM.20151231T2359.m06.g240.L2_CLIMCAPS_RET.std.v02_39.G.210425005357.nc'},\n",
       " {'rel': 'http://esipfed.org/ns/fedsearch/1.1/metadata#',\n",
       "  'title': 'api endpoint to retrieve temporary credentials valid for same-region direct s3 access (VIEW RELATED INFORMATION)',\n",
       "  'hreflang': 'en-US',\n",
       "  'href': 'https://data.gesdisc.earthdata.nasa.gov/s3credentials'},\n",
       " {'inherited': True,\n",
       "  'rel': 'http://esipfed.org/ns/fedsearch/1.1/data#',\n",
       "  'hreflang': 'en-US',\n",
       "  'href': 'https://sounder.gesdisc.eosdis.nasa.gov/data/Aqua_Sounder_Level2/SNDRAQIML2CCPRET.2/'},\n",
       " {'inherited': True,\n",
       "  'rel': 'http://esipfed.org/ns/fedsearch/1.1/service#',\n",
       "  'hreflang': 'en-US',\n",
       "  'href': 'https://sounder.gesdisc.eosdis.nasa.gov/opendap/Aqua_Sounder_Level2/SNDRAQIML2CCPRET.2/'},\n",
       " {'inherited': True,\n",
       "  'rel': 'http://esipfed.org/ns/fedsearch/1.1/data#',\n",
       "  'hreflang': 'en-US',\n",
       "  'href': 'https://search.earthdata.nasa.gov/search?q=SNDRAQIML2CCPRET+2'},\n",
       " {'inherited': True,\n",
       "  'rel': 'http://esipfed.org/ns/fedsearch/1.1/documentation#',\n",
       "  'hreflang': 'en-US',\n",
       "  'href': 'https://docserver.gesdisc.eosdis.nasa.gov/public/project/Sounder/CLIMCAPS.V2.README.pdf'},\n",
       " {'inherited': True,\n",
       "  'rel': 'http://esipfed.org/ns/fedsearch/1.1/documentation#',\n",
       "  'hreflang': 'en-US',\n",
       "  'href': 'https://docserver.gesdisc.eosdis.nasa.gov/public/project/Sounder/CLIMCAPS.V2.ATBD.pdf'},\n",
       " {'inherited': True,\n",
       "  'rel': 'http://esipfed.org/ns/fedsearch/1.1/metadata#',\n",
       "  'hreflang': 'en-US',\n",
       "  'href': 'https://airs.jpl.nasa.gov/index.html'},\n",
       " {'inherited': True,\n",
       "  'rel': 'http://esipfed.org/ns/fedsearch/1.1/documentation#',\n",
       "  'hreflang': 'en-US',\n",
       "  'href': 'https://disc.gsfc.nasa.gov/information/documents?title=AIRS%20Documentation'},\n",
       " {'inherited': True,\n",
       "  'rel': 'http://esipfed.org/ns/fedsearch/1.1/documentation#',\n",
       "  'hreflang': 'en-US',\n",
       "  'href': 'https://airs.jpl.nasa.gov/data/guides-docs/climcaps-science/'},\n",
       " {'inherited': True,\n",
       "  'rel': 'http://esipfed.org/ns/fedsearch/1.1/documentation#',\n",
       "  'hreflang': 'en-US',\n",
       "  'href': 'https://docserver.gesdisc.eosdis.nasa.gov/public/project/Sounder/CLIMCAPS_V2_L2_science_guides.pdf'}]"
      ]
     },
     "execution_count": 21,
     "metadata": {},
     "output_type": "execute_result"
    }
   ],
   "source": [
    "test"
   ]
  },
  {
   "cell_type": "code",
   "execution_count": null,
   "id": "fe212c18-029b-4f91-af81-fd092c539c70",
   "metadata": {},
   "outputs": [],
   "source": []
  }
 ],
 "metadata": {
  "colab": {
   "name": "CMR_Cloud_Search.ipynb",
   "provenance": []
  },
  "kernelspec": {
   "display_name": "Python 3 (ipykernel)",
   "language": "python",
   "name": "python3"
  },
  "language_info": {
   "codemirror_mode": {
    "name": "ipython",
    "version": 3
   },
   "file_extension": ".py",
   "mimetype": "text/x-python",
   "name": "python",
   "nbconvert_exporter": "python",
   "pygments_lexer": "ipython3",
   "version": "3.9.15"
  }
 },
 "nbformat": 4,
 "nbformat_minor": 5
}
