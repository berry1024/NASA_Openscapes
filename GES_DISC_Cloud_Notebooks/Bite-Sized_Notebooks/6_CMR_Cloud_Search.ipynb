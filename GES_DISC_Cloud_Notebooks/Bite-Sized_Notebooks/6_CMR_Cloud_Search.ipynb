{
 "cells": [
  {
   "cell_type": "markdown",
   "id": "narrative-walnut",
   "metadata": {
    "id": "narrative-walnut"
   },
   "source": [
    "# Obtain a List of S3 URLs for a GES DISC Collection Using the CMR API\n",
    "### Authors: Chris Battisto, Alexis Hunzinger\n",
    "### Date Authored: 1-31-22\n",
    "### Date Updated: 2-3-23\n",
    "\n",
    "### Timing\n",
    "\n",
    "Exercise: 15 minutes\n",
    "\n",
    "### Overview\n",
    "\n",
    "This notebook demonstrates how to obtain a list of S3 URLs for desired cloud-hosted GES DISC granules using the [Commmon Metadata Repository (CMR) API](https://cmr.earthdata.nasa.gov/search/site/docs/search/api.html).\n",
    "\n",
    "### Prerequisites\n",
    "\n",
    "This notebook was written using Python 3.8, and requires these libraries and files: \n",
    "- requests\n",
    "\n",
    "Identify your data collection of interest and acquire its shortname or concept ID.\n",
    "- These can be found on the collection's Dataset Landing Page on the GES DISC website. For example, this is the Dataset Landing Page for Hourly MERRA-2 SLV: https://disc.gsfc.nasa.gov/datasets/M2T1NXSLV_5.12.4/summary  \n",
    "\n",
    "[ADD an edited image showing how to find shortname and concept ID]\n",
    "Consider how to organize this in gesdisc-tutorials\n"
   ]
  },
  {
   "cell_type": "markdown",
   "id": "t41Inu8NiQiX",
   "metadata": {
    "id": "t41Inu8NiQiX"
   },
   "source": [
    "## Import Libraries"
   ]
  },
  {
   "cell_type": "code",
   "execution_count": 45,
   "id": "seeing-tonight",
   "metadata": {
    "id": "seeing-tonight"
   },
   "outputs": [],
   "source": [
    "import requests"
   ]
  },
  {
   "cell_type": "markdown",
   "id": "russian-night",
   "metadata": {
    "id": "russian-night"
   },
   "source": [
    "## Create a Function for CMR Catalog Requests"
   ]
  },
  {
   "cell_type": "code",
   "execution_count": 46,
   "id": "certified-gather",
   "metadata": {
    "id": "certified-gather"
   },
   "outputs": [],
   "source": [
    "def cmr_request(params):\n",
    "    response = requests.get(url,\n",
    "                        params=params,\n",
    "                        headers={\n",
    "                            'Accept': 'application/json',\n",
    "                        }\n",
    "                       )\n",
    "    return response"
   ]
  },
  {
   "cell_type": "markdown",
   "id": "breathing-oxide",
   "metadata": {
    "id": "breathing-oxide"
   },
   "source": [
    "## Search CMR Catalogs and Obtain S3 URLs\n",
    "\n",
    "### Check that the CMR catalog can be accessed\n",
    "\n",
    "If \"200, CMR is accessible\" is returned, the catalog can be accessed!"
   ]
  },
  {
   "cell_type": "code",
   "execution_count": 47,
   "id": "introductory-wyoming",
   "metadata": {
    "id": "introductory-wyoming",
    "outputId": "403cd50f-10f9-4bc1-ace1-c623d81345f0"
   },
   "outputs": [
    {
     "name": "stdout",
     "output_type": "stream",
     "text": [
      "200, CMR is accessible\n"
     ]
    }
   ],
   "source": [
    "url = 'https://cmr.earthdata.nasa.gov/search/collections'\n",
    "\n",
    "# Create our request for finding cloud-hosted granules, and check that we can access CMR\n",
    "response = cmr_request({\n",
    "                        'cloud_hosted': 'True',\n",
    "                        'has_granules': 'True'\n",
    "                        })\n",
    "\n",
    "if response.status_code == 200:\n",
    "    print(str(response.status_code) + \", CMR is accessible\")\n",
    "else:\n",
    "    print(str(response.status_code) + \", CMR is not accessible, check for outages\")"
   ]
  },
  {
   "cell_type": "markdown",
   "id": "c80d58e4",
   "metadata": {},
   "source": [
    "### Search CMR with your desired data collection's shortname or concept ID and desired date range\n",
    "\n",
    "Using the collection's shortname or concept ID, we can obtain individual granules by querying https://cmr.earthdata.nasa.gov/search/granules. By querying a JSON response of the granules that we want, we can obtain each granule's S3 URL. \n",
    "\n",
    "Here, we will parse out an S3 URL for the AQUA AIRS IR + MW Level 2 CLIMCAPS dataset. \n",
    "- **Shortname**: SNDRAQIML2CCPRET\n",
    "- **Concept ID**: C1693440798-GES_DISC\n",
    "\n",
    "Our desried date range is 00:00:00 to 06:00:00 on January 1, 2016. "
   ]
  },
  {
   "cell_type": "code",
   "execution_count": 48,
   "id": "cae6738a",
   "metadata": {
    "tags": []
   },
   "outputs": [],
   "source": [
    "url = 'https://cmr.earthdata.nasa.gov/search/granules'\n",
    "\n",
    "short_name = 'SNDRAQIML2CCPRET'\n",
    "concept_id = 'C1693440798-GES_DISC'\n",
    "\n",
    "start_time = '2016-01-01T00:00:00Z'\n",
    "end_time = '2016-01-01T06:00:00Z'\n",
    "\n",
    "# OPTION 1: Using shortname\n",
    "response = cmr_request({\n",
    "                        'short_name': short_name,\n",
    "                        'temporal': start_time+','+end_time,\n",
    "                        'page_size': 200\n",
    "                        })\n",
    "\n",
    "# OPTION 2: Using concept ID\n",
    "response = cmr_request({\n",
    "                        'concept_id': concept_id,\n",
    "                        'temporal': start_time+','+end_time,\n",
    "                        'page_size': 200\n",
    "                        })\n",
    "\n",
    "granules = response.json()['feed']['entry']"
   ]
  },
  {
   "cell_type": "markdown",
   "id": "6837abc2",
   "metadata": {},
   "source": [
    "### Identify the S3 URL from each granule response and save to a list\n",
    "\n",
    "Now you can create an empty list and fill it with the S3 URL contained in each granule's response. "
   ]
  },
  {
   "cell_type": "code",
   "execution_count": 49,
   "id": "9360a096-bcc9-41b0-97ff-d6940731dd4f",
   "metadata": {},
   "outputs": [],
   "source": [
    "s3_urls = []\n",
    "for granule in granules:\n",
    "    s3_urls.append(next((item['href'] for item in granule['links'] if item[\"href\"].startswith(\"s3://\")), None))"
   ]
  },
  {
   "cell_type": "markdown",
   "id": "9c460242-dfcc-4fae-b46b-2ab7fb8b9e47",
   "metadata": {},
   "source": [
    "### View your list of S3 URLs"
   ]
  },
  {
   "cell_type": "code",
   "execution_count": 50,
   "id": "00abda66-1df0-413d-8220-2dece8758650",
   "metadata": {},
   "outputs": [
    {
     "data": {
      "text/plain": [
       "['s3://gesdisc-cumulus-prod-protected/Aqua_Sounder_Level2/SNDRAQIML2CCPRET.2/2015/365/SNDR.AQUA.AIRS_IM.20151231T2359.m06.g240.L2_CLIMCAPS_RET.std.v02_39.G.210425005357.nc',\n",
       " 's3://gesdisc-cumulus-prod-protected/Aqua_Sounder_Level2/SNDRAQIML2CCPRET.2/2016/001/SNDR.AQUA.AIRS_IM.20160101T0005.m06.g001.L2_CLIMCAPS_RET.std.v02_39.G.210412145010.nc',\n",
       " 's3://gesdisc-cumulus-prod-protected/Aqua_Sounder_Level2/SNDRAQIML2CCPRET.2/2016/001/SNDR.AQUA.AIRS_IM.20160101T0011.m06.g002.L2_CLIMCAPS_RET.std.v02_39.G.210412145010.nc',\n",
       " 's3://gesdisc-cumulus-prod-protected/Aqua_Sounder_Level2/SNDRAQIML2CCPRET.2/2016/001/SNDR.AQUA.AIRS_IM.20160101T0017.m06.g003.L2_CLIMCAPS_RET.std.v02_39.G.210412145010.nc',\n",
       " 's3://gesdisc-cumulus-prod-protected/Aqua_Sounder_Level2/SNDRAQIML2CCPRET.2/2016/001/SNDR.AQUA.AIRS_IM.20160101T0023.m06.g004.L2_CLIMCAPS_RET.std.v02_39.G.210412145010.nc',\n",
       " 's3://gesdisc-cumulus-prod-protected/Aqua_Sounder_Level2/SNDRAQIML2CCPRET.2/2016/001/SNDR.AQUA.AIRS_IM.20160101T0029.m06.g005.L2_CLIMCAPS_RET.std.v02_39.G.210412145010.nc',\n",
       " 's3://gesdisc-cumulus-prod-protected/Aqua_Sounder_Level2/SNDRAQIML2CCPRET.2/2016/001/SNDR.AQUA.AIRS_IM.20160101T0035.m06.g006.L2_CLIMCAPS_RET.std.v02_39.G.210412145010.nc',\n",
       " 's3://gesdisc-cumulus-prod-protected/Aqua_Sounder_Level2/SNDRAQIML2CCPRET.2/2016/001/SNDR.AQUA.AIRS_IM.20160101T0041.m06.g007.L2_CLIMCAPS_RET.std.v02_39.G.210412145010.nc',\n",
       " 's3://gesdisc-cumulus-prod-protected/Aqua_Sounder_Level2/SNDRAQIML2CCPRET.2/2016/001/SNDR.AQUA.AIRS_IM.20160101T0047.m06.g008.L2_CLIMCAPS_RET.std.v02_39.G.210412145010.nc',\n",
       " 's3://gesdisc-cumulus-prod-protected/Aqua_Sounder_Level2/SNDRAQIML2CCPRET.2/2016/001/SNDR.AQUA.AIRS_IM.20160101T0053.m06.g009.L2_CLIMCAPS_RET.std.v02_39.G.210412145010.nc',\n",
       " 's3://gesdisc-cumulus-prod-protected/Aqua_Sounder_Level2/SNDRAQIML2CCPRET.2/2016/001/SNDR.AQUA.AIRS_IM.20160101T0059.m06.g010.L2_CLIMCAPS_RET.std.v02_39.G.210412145010.nc',\n",
       " 's3://gesdisc-cumulus-prod-protected/Aqua_Sounder_Level2/SNDRAQIML2CCPRET.2/2016/001/SNDR.AQUA.AIRS_IM.20160101T0105.m06.g011.L2_CLIMCAPS_RET.std.v02_39.G.210412145030.nc',\n",
       " 's3://gesdisc-cumulus-prod-protected/Aqua_Sounder_Level2/SNDRAQIML2CCPRET.2/2016/001/SNDR.AQUA.AIRS_IM.20160101T0111.m06.g012.L2_CLIMCAPS_RET.std.v02_39.G.210412145030.nc',\n",
       " 's3://gesdisc-cumulus-prod-protected/Aqua_Sounder_Level2/SNDRAQIML2CCPRET.2/2016/001/SNDR.AQUA.AIRS_IM.20160101T0117.m06.g013.L2_CLIMCAPS_RET.std.v02_39.G.210412145031.nc',\n",
       " 's3://gesdisc-cumulus-prod-protected/Aqua_Sounder_Level2/SNDRAQIML2CCPRET.2/2016/001/SNDR.AQUA.AIRS_IM.20160101T0123.m06.g014.L2_CLIMCAPS_RET.std.v02_39.G.210412145030.nc',\n",
       " 's3://gesdisc-cumulus-prod-protected/Aqua_Sounder_Level2/SNDRAQIML2CCPRET.2/2016/001/SNDR.AQUA.AIRS_IM.20160101T0129.m06.g015.L2_CLIMCAPS_RET.std.v02_39.G.210412145030.nc',\n",
       " 's3://gesdisc-cumulus-prod-protected/Aqua_Sounder_Level2/SNDRAQIML2CCPRET.2/2016/001/SNDR.AQUA.AIRS_IM.20160101T0135.m06.g016.L2_CLIMCAPS_RET.std.v02_39.G.210412145030.nc',\n",
       " 's3://gesdisc-cumulus-prod-protected/Aqua_Sounder_Level2/SNDRAQIML2CCPRET.2/2016/001/SNDR.AQUA.AIRS_IM.20160101T0141.m06.g017.L2_CLIMCAPS_RET.std.v02_39.G.210412145030.nc',\n",
       " 's3://gesdisc-cumulus-prod-protected/Aqua_Sounder_Level2/SNDRAQIML2CCPRET.2/2016/001/SNDR.AQUA.AIRS_IM.20160101T0147.m06.g018.L2_CLIMCAPS_RET.std.v02_39.G.210412145031.nc',\n",
       " 's3://gesdisc-cumulus-prod-protected/Aqua_Sounder_Level2/SNDRAQIML2CCPRET.2/2016/001/SNDR.AQUA.AIRS_IM.20160101T0153.m06.g019.L2_CLIMCAPS_RET.std.v02_39.G.210412145030.nc',\n",
       " 's3://gesdisc-cumulus-prod-protected/Aqua_Sounder_Level2/SNDRAQIML2CCPRET.2/2016/001/SNDR.AQUA.AIRS_IM.20160101T0159.m06.g020.L2_CLIMCAPS_RET.std.v02_39.G.210412145030.nc',\n",
       " 's3://gesdisc-cumulus-prod-protected/Aqua_Sounder_Level2/SNDRAQIML2CCPRET.2/2016/001/SNDR.AQUA.AIRS_IM.20160101T0205.m06.g021.L2_CLIMCAPS_RET.std.v02_39.G.210412145051.nc',\n",
       " 's3://gesdisc-cumulus-prod-protected/Aqua_Sounder_Level2/SNDRAQIML2CCPRET.2/2016/001/SNDR.AQUA.AIRS_IM.20160101T0211.m06.g022.L2_CLIMCAPS_RET.std.v02_39.G.210412145051.nc',\n",
       " 's3://gesdisc-cumulus-prod-protected/Aqua_Sounder_Level2/SNDRAQIML2CCPRET.2/2016/001/SNDR.AQUA.AIRS_IM.20160101T0217.m06.g023.L2_CLIMCAPS_RET.std.v02_39.G.210412145051.nc',\n",
       " 's3://gesdisc-cumulus-prod-protected/Aqua_Sounder_Level2/SNDRAQIML2CCPRET.2/2016/001/SNDR.AQUA.AIRS_IM.20160101T0223.m06.g024.L2_CLIMCAPS_RET.std.v02_39.G.210412145051.nc',\n",
       " 's3://gesdisc-cumulus-prod-protected/Aqua_Sounder_Level2/SNDRAQIML2CCPRET.2/2016/001/SNDR.AQUA.AIRS_IM.20160101T0229.m06.g025.L2_CLIMCAPS_RET.std.v02_39.G.210412145051.nc',\n",
       " 's3://gesdisc-cumulus-prod-protected/Aqua_Sounder_Level2/SNDRAQIML2CCPRET.2/2016/001/SNDR.AQUA.AIRS_IM.20160101T0235.m06.g026.L2_CLIMCAPS_RET.std.v02_39.G.210412145051.nc',\n",
       " 's3://gesdisc-cumulus-prod-protected/Aqua_Sounder_Level2/SNDRAQIML2CCPRET.2/2016/001/SNDR.AQUA.AIRS_IM.20160101T0241.m06.g027.L2_CLIMCAPS_RET.std.v02_39.G.210412145051.nc',\n",
       " 's3://gesdisc-cumulus-prod-protected/Aqua_Sounder_Level2/SNDRAQIML2CCPRET.2/2016/001/SNDR.AQUA.AIRS_IM.20160101T0247.m06.g028.L2_CLIMCAPS_RET.std.v02_39.G.210412145051.nc',\n",
       " 's3://gesdisc-cumulus-prod-protected/Aqua_Sounder_Level2/SNDRAQIML2CCPRET.2/2016/001/SNDR.AQUA.AIRS_IM.20160101T0253.m06.g029.L2_CLIMCAPS_RET.std.v02_39.G.210412145051.nc',\n",
       " 's3://gesdisc-cumulus-prod-protected/Aqua_Sounder_Level2/SNDRAQIML2CCPRET.2/2016/001/SNDR.AQUA.AIRS_IM.20160101T0259.m06.g030.L2_CLIMCAPS_RET.std.v02_39.G.210412145051.nc',\n",
       " 's3://gesdisc-cumulus-prod-protected/Aqua_Sounder_Level2/SNDRAQIML2CCPRET.2/2016/001/SNDR.AQUA.AIRS_IM.20160101T0305.m06.g031.L2_CLIMCAPS_RET.std.v02_39.G.210412145111.nc',\n",
       " 's3://gesdisc-cumulus-prod-protected/Aqua_Sounder_Level2/SNDRAQIML2CCPRET.2/2016/001/SNDR.AQUA.AIRS_IM.20160101T0311.m06.g032.L2_CLIMCAPS_RET.std.v02_39.G.210412145111.nc',\n",
       " 's3://gesdisc-cumulus-prod-protected/Aqua_Sounder_Level2/SNDRAQIML2CCPRET.2/2016/001/SNDR.AQUA.AIRS_IM.20160101T0317.m06.g033.L2_CLIMCAPS_RET.std.v02_39.G.210412145111.nc',\n",
       " 's3://gesdisc-cumulus-prod-protected/Aqua_Sounder_Level2/SNDRAQIML2CCPRET.2/2016/001/SNDR.AQUA.AIRS_IM.20160101T0323.m06.g034.L2_CLIMCAPS_RET.std.v02_39.G.210412145111.nc',\n",
       " 's3://gesdisc-cumulus-prod-protected/Aqua_Sounder_Level2/SNDRAQIML2CCPRET.2/2016/001/SNDR.AQUA.AIRS_IM.20160101T0329.m06.g035.L2_CLIMCAPS_RET.std.v02_39.G.210412145111.nc',\n",
       " 's3://gesdisc-cumulus-prod-protected/Aqua_Sounder_Level2/SNDRAQIML2CCPRET.2/2016/001/SNDR.AQUA.AIRS_IM.20160101T0335.m06.g036.L2_CLIMCAPS_RET.std.v02_39.G.210412145111.nc',\n",
       " 's3://gesdisc-cumulus-prod-protected/Aqua_Sounder_Level2/SNDRAQIML2CCPRET.2/2016/001/SNDR.AQUA.AIRS_IM.20160101T0341.m06.g037.L2_CLIMCAPS_RET.std.v02_39.G.210412145111.nc',\n",
       " 's3://gesdisc-cumulus-prod-protected/Aqua_Sounder_Level2/SNDRAQIML2CCPRET.2/2016/001/SNDR.AQUA.AIRS_IM.20160101T0347.m06.g038.L2_CLIMCAPS_RET.std.v02_39.G.210412145111.nc',\n",
       " 's3://gesdisc-cumulus-prod-protected/Aqua_Sounder_Level2/SNDRAQIML2CCPRET.2/2016/001/SNDR.AQUA.AIRS_IM.20160101T0353.m06.g039.L2_CLIMCAPS_RET.std.v02_39.G.210412145111.nc',\n",
       " 's3://gesdisc-cumulus-prod-protected/Aqua_Sounder_Level2/SNDRAQIML2CCPRET.2/2016/001/SNDR.AQUA.AIRS_IM.20160101T0359.m06.g040.L2_CLIMCAPS_RET.std.v02_39.G.210412145111.nc',\n",
       " 's3://gesdisc-cumulus-prod-protected/Aqua_Sounder_Level2/SNDRAQIML2CCPRET.2/2016/001/SNDR.AQUA.AIRS_IM.20160101T0405.m06.g041.L2_CLIMCAPS_RET.std.v02_39.G.210412145131.nc',\n",
       " 's3://gesdisc-cumulus-prod-protected/Aqua_Sounder_Level2/SNDRAQIML2CCPRET.2/2016/001/SNDR.AQUA.AIRS_IM.20160101T0411.m06.g042.L2_CLIMCAPS_RET.std.v02_39.G.210412145131.nc',\n",
       " 's3://gesdisc-cumulus-prod-protected/Aqua_Sounder_Level2/SNDRAQIML2CCPRET.2/2016/001/SNDR.AQUA.AIRS_IM.20160101T0417.m06.g043.L2_CLIMCAPS_RET.std.v02_39.G.210412145131.nc',\n",
       " 's3://gesdisc-cumulus-prod-protected/Aqua_Sounder_Level2/SNDRAQIML2CCPRET.2/2016/001/SNDR.AQUA.AIRS_IM.20160101T0423.m06.g044.L2_CLIMCAPS_RET.std.v02_39.G.210412145131.nc',\n",
       " 's3://gesdisc-cumulus-prod-protected/Aqua_Sounder_Level2/SNDRAQIML2CCPRET.2/2016/001/SNDR.AQUA.AIRS_IM.20160101T0429.m06.g045.L2_CLIMCAPS_RET.std.v02_39.G.210412145131.nc',\n",
       " 's3://gesdisc-cumulus-prod-protected/Aqua_Sounder_Level2/SNDRAQIML2CCPRET.2/2016/001/SNDR.AQUA.AIRS_IM.20160101T0435.m06.g046.L2_CLIMCAPS_RET.std.v02_39.G.210412145131.nc',\n",
       " 's3://gesdisc-cumulus-prod-protected/Aqua_Sounder_Level2/SNDRAQIML2CCPRET.2/2016/001/SNDR.AQUA.AIRS_IM.20160101T0441.m06.g047.L2_CLIMCAPS_RET.std.v02_39.G.210412145131.nc',\n",
       " 's3://gesdisc-cumulus-prod-protected/Aqua_Sounder_Level2/SNDRAQIML2CCPRET.2/2016/001/SNDR.AQUA.AIRS_IM.20160101T0447.m06.g048.L2_CLIMCAPS_RET.std.v02_39.G.210412145131.nc',\n",
       " 's3://gesdisc-cumulus-prod-protected/Aqua_Sounder_Level2/SNDRAQIML2CCPRET.2/2016/001/SNDR.AQUA.AIRS_IM.20160101T0453.m06.g049.L2_CLIMCAPS_RET.std.v02_39.G.210412145131.nc',\n",
       " 's3://gesdisc-cumulus-prod-protected/Aqua_Sounder_Level2/SNDRAQIML2CCPRET.2/2016/001/SNDR.AQUA.AIRS_IM.20160101T0459.m06.g050.L2_CLIMCAPS_RET.std.v02_39.G.210412145131.nc',\n",
       " 's3://gesdisc-cumulus-prod-protected/Aqua_Sounder_Level2/SNDRAQIML2CCPRET.2/2016/001/SNDR.AQUA.AIRS_IM.20160101T0505.m06.g051.L2_CLIMCAPS_RET.std.v02_39.G.210412145151.nc',\n",
       " 's3://gesdisc-cumulus-prod-protected/Aqua_Sounder_Level2/SNDRAQIML2CCPRET.2/2016/001/SNDR.AQUA.AIRS_IM.20160101T0511.m06.g052.L2_CLIMCAPS_RET.std.v02_39.G.210412145151.nc',\n",
       " 's3://gesdisc-cumulus-prod-protected/Aqua_Sounder_Level2/SNDRAQIML2CCPRET.2/2016/001/SNDR.AQUA.AIRS_IM.20160101T0517.m06.g053.L2_CLIMCAPS_RET.std.v02_39.G.210412145151.nc',\n",
       " 's3://gesdisc-cumulus-prod-protected/Aqua_Sounder_Level2/SNDRAQIML2CCPRET.2/2016/001/SNDR.AQUA.AIRS_IM.20160101T0523.m06.g054.L2_CLIMCAPS_RET.std.v02_39.G.210412145151.nc',\n",
       " 's3://gesdisc-cumulus-prod-protected/Aqua_Sounder_Level2/SNDRAQIML2CCPRET.2/2016/001/SNDR.AQUA.AIRS_IM.20160101T0529.m06.g055.L2_CLIMCAPS_RET.std.v02_39.G.210412145151.nc',\n",
       " 's3://gesdisc-cumulus-prod-protected/Aqua_Sounder_Level2/SNDRAQIML2CCPRET.2/2016/001/SNDR.AQUA.AIRS_IM.20160101T0535.m06.g056.L2_CLIMCAPS_RET.std.v02_39.G.210412145151.nc',\n",
       " 's3://gesdisc-cumulus-prod-protected/Aqua_Sounder_Level2/SNDRAQIML2CCPRET.2/2016/001/SNDR.AQUA.AIRS_IM.20160101T0541.m06.g057.L2_CLIMCAPS_RET.std.v02_39.G.210412145151.nc',\n",
       " 's3://gesdisc-cumulus-prod-protected/Aqua_Sounder_Level2/SNDRAQIML2CCPRET.2/2016/001/SNDR.AQUA.AIRS_IM.20160101T0547.m06.g058.L2_CLIMCAPS_RET.std.v02_39.G.210412145151.nc',\n",
       " 's3://gesdisc-cumulus-prod-protected/Aqua_Sounder_Level2/SNDRAQIML2CCPRET.2/2016/001/SNDR.AQUA.AIRS_IM.20160101T0553.m06.g059.L2_CLIMCAPS_RET.std.v02_39.G.210412145151.nc',\n",
       " 's3://gesdisc-cumulus-prod-protected/Aqua_Sounder_Level2/SNDRAQIML2CCPRET.2/2016/001/SNDR.AQUA.AIRS_IM.20160101T0559.m06.g060.L2_CLIMCAPS_RET.std.v02_39.G.210412145151.nc']"
      ]
     },
     "execution_count": 50,
     "metadata": {},
     "output_type": "execute_result"
    }
   ],
   "source": [
    "s3_urls"
   ]
  },
  {
   "cell_type": "code",
   "execution_count": null,
   "id": "61d0bada-a632-4ae5-a39b-dc1b86dd4d50",
   "metadata": {},
   "outputs": [],
   "source": []
  }
 ],
 "metadata": {
  "colab": {
   "name": "CMR_Cloud_Search.ipynb",
   "provenance": []
  },
  "kernelspec": {
   "display_name": "Python 3 (ipykernel)",
   "language": "python",
   "name": "python3"
  },
  "language_info": {
   "codemirror_mode": {
    "name": "ipython",
    "version": 3
   },
   "file_extension": ".py",
   "mimetype": "text/x-python",
   "name": "python",
   "nbconvert_exporter": "python",
   "pygments_lexer": "ipython3",
   "version": "3.9.15"
  }
 },
 "nbformat": 4,
 "nbformat_minor": 5
}
